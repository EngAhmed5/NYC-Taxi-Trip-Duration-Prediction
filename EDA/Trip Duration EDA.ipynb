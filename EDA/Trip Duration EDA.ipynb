{
 "cells": [
  {
   "cell_type": "markdown",
   "metadata": {},
   "source": [
    "<div style=\"background-color: #F9F9F9; padding: 40px; border-radius: 20px; box-shadow: 0px 6px 15px rgba(0, 0, 0, 0.1); margin: 20px auto; max-width: 800px; text-align: center;\">\n",
    "  <h1 style=\"color: #2C3E50; font-family: 'Georgia', serif; font-size: 36px; font-weight: bold; letter-spacing: 1.5px; text-transform: uppercase; margin-bottom: 10px;\">\n",
    "    New York City Taxi Trip Duration\n",
    "  </h1>\n",
    "  <p style=\"color: #5D6D7E; font-family: 'Arial', sans-serif; font-size: 18px; line-height: 1.6; margin-top: 0;\">\n",
    "    Analyzing trip data to predict and understand taxi trip durations in NYC.\n",
    "  </p>\n",
    "  <hr style=\"border: none; border-top: 2px solid #AED6F1; width: 80%; margin: 20px auto;\">\n",
    "  <p style=\"color: #85929E; font-family: 'Arial', sans-serif; font-size: 14px; margin-top: 10px;\">\n",
    "    Powered by advanced analytics and machine learning techniques.\n",
    "  </p>\n",
    "</div>"
   ]
  },
  {
   "cell_type": "markdown",
   "metadata": {},
   "source": [
    "<div style=\"background-color: #FFFFFF; padding: 40px; border-radius: 20px; box-shadow: 0px 8px 20px rgba(0, 0, 0, 0.1); margin: 20px auto; max-width: 800px; text-align: center;\">\n",
    "  <h2 style=\"color: #2C3E50; font-family: 'Georgia', serif; font-size: 26px; font-weight: bold; letter-spacing: 1.2px; text-transform: uppercase; margin-bottom: 25px;\">\n",
    "    Dataset Fields Overview\n",
    "  </h2>\n",
    "  <p style=\"color: #5D6D7E; font-family: 'Arial', sans-serif; font-size: 18px; line-height: 1.6; margin-top: 0; margin-bottom: 20px;\">\n",
    "    Below is a detailed description of the dataset fields used for predicting taxi trip durations in NYC.\n",
    "  </p>\n",
    "  <hr style=\"border: none; border-top: 2px solid #AED6F1; width: 80%; margin: 20px auto;\">\n",
    "  <div style=\"text-align: left; margin: 0 auto; max-width: 650px;\">\n",
    "    <div style=\"margin-bottom: 15px;\">\n",
    "      <strong style=\"color: #2C3E50; font-family: 'Arial', sans-serif; font-size: 16px;\">id</strong>\n",
    "      <p style=\"color: #5D6D7E; font-family: 'Arial', sans-serif; font-size: 14px; line-height: 1.5; margin-top: 5px;\">\n",
    "        A unique identifier for each trip record.\n",
    "      </p>\n",
    "    </div>\n",
    "    <div style=\"margin-bottom: 15px;\">\n",
    "      <strong style=\"color: #2C3E50; font-family: 'Arial', sans-serif; font-size: 16px;\">vendor_id</strong>\n",
    "      <p style=\"color: #5D6D7E; font-family: 'Arial', sans-serif; font-size: 14px; line-height: 1.5; margin-top: 5px;\">\n",
    "        A code indicating the provider associated with the trip record.\n",
    "      </p>\n",
    "    </div>\n",
    "    <div style=\"margin-bottom: 15px;\">\n",
    "      <strong style=\"color: #2C3E50; font-family: 'Arial', sans-serif; font-size: 16px;\">pickup_datetime</strong>\n",
    "      <p style=\"color: #5D6D7E; font-family: 'Arial', sans-serif; font-size: 14px; line-height: 1.5; margin-top: 5px;\">\n",
    "        The date and time when the trip started (i.e., when the meter was engaged).\n",
    "      </p>\n",
    "    </div>\n",
    "    <div style=\"margin-bottom: 15px;\">\n",
    "      <strong style=\"color: #2C3E50; font-family: 'Arial', sans-serif; font-size: 16px;\">passenger_count</strong>\n",
    "      <p style=\"color: #5D6D7E; font-family: 'Arial', sans-serif; font-size: 14px; line-height: 1.5; margin-top: 5px;\">\n",
    "        The number of passengers in the vehicle (as entered by the driver).\n",
    "      </p>\n",
    "    </div>\n",
    "    <div style=\"margin-bottom: 15px;\">\n",
    "      <strong style=\"color: #2C3E50; font-family: 'Arial', sans-serif; font-size: 16px;\">pickup_longitude</strong>\n",
    "      <p style=\"color: #5D6D7E; font-family: 'Arial', sans-serif; font-size: 14px; line-height: 1.5; margin-top: 5px;\">\n",
    "        The longitude coordinate where the trip started (i.e., where the meter was engaged).\n",
    "      </p>\n",
    "    </div>\n",
    "    <div style=\"margin-bottom: 15px;\">\n",
    "      <strong style=\"color: #2C3E50; font-family: 'Arial', sans-serif; font-size: 16px;\">pickup_latitude</strong>\n",
    "      <p style=\"color: #5D6D7E; font-family: 'Arial', sans-serif; font-size: 14px; line-height: 1.5; margin-top: 5px;\">\n",
    "        The latitude coordinate where the trip started (i.e., where the meter was engaged).\n",
    "      </p>\n",
    "    </div>\n",
    "    <div style=\"margin-bottom: 15px;\">\n",
    "      <strong style=\"color: #2C3E50; font-family: 'Arial', sans-serif; font-size: 16px;\">dropoff_longitude</strong>\n",
    "      <p style=\"color: #5D6D7E; font-family: 'Arial', sans-serif; font-size: 14px; line-height: 1.5; margin-top: 5px;\">\n",
    "        The longitude coordinate where the trip ended (i.e., where the meter was disengaged).\n",
    "      </p>\n",
    "    </div>\n",
    "    <div style=\"margin-bottom: 15px;\">\n",
    "      <strong style=\"color: #2C3E50; font-family: 'Arial', sans-serif; font-size: 16px;\">dropoff_latitude</strong>\n",
    "      <p style=\"color: #5D6D7E; font-family: 'Arial', sans-serif; font-size: 14px; line-height: 1.5; margin-top: 5px;\">\n",
    "        The latitude coordinate where the trip ended (i.e., where the meter was disengaged).\n",
    "      </p>\n",
    "    </div>\n",
    "    <div style=\"margin-bottom: 15px;\">\n",
    "      <strong style=\"color: #2C3E50; font-family: 'Arial', sans-serif; font-size: 16px;\">store_and_fwd_flag</strong>\n",
    "      <p style=\"color: #5D6D7E; font-family: 'Arial', sans-serif; font-size: 14px; line-height: 1.5; margin-top: 5px;\">\n",
    "        Indicates whether the trip record was temporarily stored in the vehicle's memory due to a lack of server connection:\n",
    "        <ul style=\"color: #5D6D7E; font-family: 'Arial', sans-serif; font-size: 14px; line-height: 1.5; margin-top: 5px; padding-left: 20px;\">\n",
    "          <li><strong>Y</strong>: Store-and-forward trip (data held in vehicle memory before transmission).</li>\n",
    "          <li><strong>N</strong>: Not a store-and-forward trip.</li>\n",
    "        </ul>\n",
    "      </p>\n",
    "    </div>\n",
    "    <div style=\"margin-bottom: 15px;\">\n",
    "      <strong style=\"color: #2C3E50; font-family: 'Arial', sans-serif; font-size: 16px;\">trip_duration</strong>\n",
    "      <p style=\"color: #5D6D7E; font-family: 'Arial', sans-serif; font-size: 14px; line-height: 1.5; margin-top: 5px;\">\n",
    "        The duration of the trip, measured in seconds.\n",
    "      </p>\n",
    "    </div>\n",
    "  </div>\n",
    "  <hr style=\"border: none; border-top: 2px solid #AED6F1; width: 80%; margin: 20px auto;\">\n",
    "  <p style=\"color: #85929E; font-family: 'Arial', sans-serif; font-size: 14px; margin-top: 10px;\">\n",
    "    Powered by advanced analytics and machine learning techniques for accurate trip duration prediction.\n",
    "  </p>\n",
    "</div>"
   ]
  },
  {
   "cell_type": "markdown",
   "metadata": {},
   "source": [
    "<div style=\"background-color: #F9F9F9; padding: 40px; border-radius: 20px; box-shadow: 0px 8px 20px rgba(0, 0, 0, 0.1); margin: 20px auto; max-width: 800px; text-align: center;\">\n",
    "  <h2 style=\"color: #2C3E50; font-family: 'Georgia', serif; font-size: 26px; font-weight: bold; letter-spacing: 1.2px; text-transform: uppercase; margin-bottom: 25px;\">\n",
    "    Importing Required Libraries\n",
    "  </h2>\n",
    "  \n",
    "  <hr style=\"border: none; border-top: 2px solid #AED6F1; width: 80%; margin: 20px auto;\">\n",
    "  "
   ]
  },
  {
   "cell_type": "code",
   "execution_count": 1,
   "metadata": {},
   "outputs": [],
   "source": [
    "import pandas as pd \n",
    "import numpy as np \n",
    "import matplotlib.pyplot as plt\n",
    "import seaborn as sns\n",
    "import plotly.express as px\n",
    "from plotly.subplots import make_subplots\n",
    "import plotly.graph_objects as go\n",
    "import math as math \n",
    "from plotly.offline import iplot, plot\n",
    "from plotly.subplots import make_subplots\n",
    "import plotly.figure_factory as ff\n",
    "\n",
    "import warnings\n",
    "warnings.filterwarnings('ignore')\n",
    "\n",
    "colors = [\"#b1e7cd\",\"#854442\",\"#000000\",\"#fff4e6\",\"#3c2f2f\",\n",
    "         \"#be9b7b \",\"#512E5F\",\"#45B39D\",\"#AAB7B8 \",\"#20B2AA\",\n",
    "         \"#FF69B4\",\"#00CED1\",\"#FF7F50\",\"#7FFF00\",\"#DA70D6\"]"
   ]
  },
  {
   "cell_type": "markdown",
   "metadata": {},
   "source": [
    "<div style=\"background-color: #F9F9F9; padding: 40px; border-radius: 20px; box-shadow: 0px 8px 20px rgba(0, 0, 0, 0.1); margin: 20px auto; max-width: 800px; text-align: center;\">\n",
    "  <h2 style=\"color: #2C3E50; font-family: 'Georgia', serif; font-size: 26px; font-weight: bold; letter-spacing: 1.2px; text-transform: uppercase; margin-bottom: 25px;\">\n",
    "    Read Data and Get Some Info About It\n",
    "  </h2>\n",
    "    <hr style=\"border: none; border-top: 2px solid #AED6F1; width: 80%; margin: 20px auto;\">\n",
    "</div>"
   ]
  },
  {
   "cell_type": "code",
   "execution_count": 2,
   "metadata": {},
   "outputs": [],
   "source": [
    "train_path = r\"D:\\Ahmed\\Trip Duration Project\\Data\\train.csv\"\n",
    "val_path = r\"D:\\Ahmed\\Trip Duration Project\\Data\\val.csv\"\n",
    "df_train = pd.read_csv(train_path)\n",
    "df_val = pd.read_csv(val_path)\n"
   ]
  },
  {
   "cell_type": "code",
   "execution_count": 3,
   "metadata": {},
   "outputs": [
    {
     "name": "stdout",
     "output_type": "stream",
     "text": [
      "Number of Row In Train Dataset : 1000000\n",
      "Number of Columns : 10\n",
      "----------------------------------------\n",
      "Number of Row In Validation Dataset : 229319\n",
      "Number of Columns : 10\n"
     ]
    }
   ],
   "source": [
    "# Display Number Of COLUMNS And ROWS In Both Validation And Train Dataset   \n",
    "print(f\"Number of Row In Train Dataset : {df_train.shape[0]}\\nNumber of Columns : {df_train.shape[1]}\")\n",
    "print (\"--\"*20)\n",
    "print(f\"Number of Row In Validation Dataset : {df_val.shape[0]}\\nNumber of Columns : {df_val.shape[1]}\")\n"
   ]
  },
  {
   "cell_type": "code",
   "execution_count": 4,
   "metadata": {},
   "outputs": [
    {
     "name": "stdout",
     "output_type": "stream",
     "text": [
      "Number of Rows In Dataset : 1229319\n",
      "Number of Columns : 10\n"
     ]
    }
   ],
   "source": [
    "df = pd.concat([df_train , df_val] )\n",
    "\n",
    "df.to_csv('combined.csv', index=False)\n",
    "\n",
    "print(f\"Number of Rows In Dataset : {df.shape[0]}\\nNumber of Columns : {df.shape[1]}\")\n"
   ]
  },
  {
   "cell_type": "code",
   "execution_count": 5,
   "metadata": {},
   "outputs": [
    {
     "data": {
      "text/html": [
       "<div>\n",
       "<style scoped>\n",
       "    .dataframe tbody tr th:only-of-type {\n",
       "        vertical-align: middle;\n",
       "    }\n",
       "\n",
       "    .dataframe tbody tr th {\n",
       "        vertical-align: top;\n",
       "    }\n",
       "\n",
       "    .dataframe thead th {\n",
       "        text-align: right;\n",
       "    }\n",
       "</style>\n",
       "<table border=\"1\" class=\"dataframe\">\n",
       "  <thead>\n",
       "    <tr style=\"text-align: right;\">\n",
       "      <th></th>\n",
       "      <th>id</th>\n",
       "      <th>vendor_id</th>\n",
       "      <th>pickup_datetime</th>\n",
       "      <th>passenger_count</th>\n",
       "      <th>pickup_longitude</th>\n",
       "      <th>pickup_latitude</th>\n",
       "      <th>dropoff_longitude</th>\n",
       "      <th>dropoff_latitude</th>\n",
       "      <th>store_and_fwd_flag</th>\n",
       "      <th>trip_duration</th>\n",
       "    </tr>\n",
       "  </thead>\n",
       "  <tbody>\n",
       "    <tr>\n",
       "      <th>613176</th>\n",
       "      <td>id0822764</td>\n",
       "      <td>2</td>\n",
       "      <td>2016-01-30 03:53:24</td>\n",
       "      <td>1</td>\n",
       "      <td>-73.992271</td>\n",
       "      <td>40.731022</td>\n",
       "      <td>-73.995041</td>\n",
       "      <td>40.747219</td>\n",
       "      <td>N</td>\n",
       "      <td>583</td>\n",
       "    </tr>\n",
       "    <tr>\n",
       "      <th>507399</th>\n",
       "      <td>id0282795</td>\n",
       "      <td>1</td>\n",
       "      <td>2016-04-07 12:44:10</td>\n",
       "      <td>3</td>\n",
       "      <td>-73.953148</td>\n",
       "      <td>40.764946</td>\n",
       "      <td>-73.952492</td>\n",
       "      <td>40.779861</td>\n",
       "      <td>N</td>\n",
       "      <td>748</td>\n",
       "    </tr>\n",
       "    <tr>\n",
       "      <th>703390</th>\n",
       "      <td>id3554128</td>\n",
       "      <td>2</td>\n",
       "      <td>2016-05-02 22:11:51</td>\n",
       "      <td>2</td>\n",
       "      <td>-74.010048</td>\n",
       "      <td>40.709648</td>\n",
       "      <td>-73.977364</td>\n",
       "      <td>40.736351</td>\n",
       "      <td>N</td>\n",
       "      <td>745</td>\n",
       "    </tr>\n",
       "  </tbody>\n",
       "</table>\n",
       "</div>"
      ],
      "text/plain": [
       "               id  vendor_id      pickup_datetime  passenger_count  \\\n",
       "613176  id0822764          2  2016-01-30 03:53:24                1   \n",
       "507399  id0282795          1  2016-04-07 12:44:10                3   \n",
       "703390  id3554128          2  2016-05-02 22:11:51                2   \n",
       "\n",
       "        pickup_longitude  pickup_latitude  dropoff_longitude  \\\n",
       "613176        -73.992271        40.731022         -73.995041   \n",
       "507399        -73.953148        40.764946         -73.952492   \n",
       "703390        -74.010048        40.709648         -73.977364   \n",
       "\n",
       "        dropoff_latitude store_and_fwd_flag  trip_duration  \n",
       "613176         40.747219                  N            583  \n",
       "507399         40.779861                  N            748  \n",
       "703390         40.736351                  N            745  "
      ]
     },
     "execution_count": 5,
     "metadata": {},
     "output_type": "execute_result"
    }
   ],
   "source": [
    "df.sample(3)"
   ]
  },
  {
   "cell_type": "code",
   "execution_count": 6,
   "metadata": {},
   "outputs": [
    {
     "data": {
      "text/html": [
       "<div>\n",
       "<style scoped>\n",
       "    .dataframe tbody tr th:only-of-type {\n",
       "        vertical-align: middle;\n",
       "    }\n",
       "\n",
       "    .dataframe tbody tr th {\n",
       "        vertical-align: top;\n",
       "    }\n",
       "\n",
       "    .dataframe thead th {\n",
       "        text-align: right;\n",
       "    }\n",
       "</style>\n",
       "<table border=\"1\" class=\"dataframe\">\n",
       "  <thead>\n",
       "    <tr style=\"text-align: right;\">\n",
       "      <th></th>\n",
       "      <th>count</th>\n",
       "      <th>mean</th>\n",
       "      <th>std</th>\n",
       "      <th>min</th>\n",
       "      <th>25%</th>\n",
       "      <th>50%</th>\n",
       "      <th>75%</th>\n",
       "      <th>max</th>\n",
       "    </tr>\n",
       "  </thead>\n",
       "  <tbody>\n",
       "    <tr>\n",
       "      <th>vendor_id</th>\n",
       "      <td>1229319.0</td>\n",
       "      <td>1.534912</td>\n",
       "      <td>0.498780</td>\n",
       "      <td>1.000000</td>\n",
       "      <td>1.000000</td>\n",
       "      <td>2.000000</td>\n",
       "      <td>2.000000</td>\n",
       "      <td>2.000000e+00</td>\n",
       "    </tr>\n",
       "    <tr>\n",
       "      <th>passenger_count</th>\n",
       "      <td>1229319.0</td>\n",
       "      <td>1.664531</td>\n",
       "      <td>1.314509</td>\n",
       "      <td>0.000000</td>\n",
       "      <td>1.000000</td>\n",
       "      <td>1.000000</td>\n",
       "      <td>2.000000</td>\n",
       "      <td>8.000000e+00</td>\n",
       "    </tr>\n",
       "    <tr>\n",
       "      <th>pickup_longitude</th>\n",
       "      <td>1229319.0</td>\n",
       "      <td>-73.973446</td>\n",
       "      <td>0.061780</td>\n",
       "      <td>-121.933342</td>\n",
       "      <td>-73.991852</td>\n",
       "      <td>-73.981728</td>\n",
       "      <td>-73.967346</td>\n",
       "      <td>-6.133553e+01</td>\n",
       "    </tr>\n",
       "    <tr>\n",
       "      <th>pickup_latitude</th>\n",
       "      <td>1229319.0</td>\n",
       "      <td>40.750928</td>\n",
       "      <td>0.033545</td>\n",
       "      <td>34.359695</td>\n",
       "      <td>40.737370</td>\n",
       "      <td>40.754108</td>\n",
       "      <td>40.768360</td>\n",
       "      <td>5.188108e+01</td>\n",
       "    </tr>\n",
       "    <tr>\n",
       "      <th>dropoff_longitude</th>\n",
       "      <td>1229319.0</td>\n",
       "      <td>-73.973395</td>\n",
       "      <td>0.061641</td>\n",
       "      <td>-121.933304</td>\n",
       "      <td>-73.991325</td>\n",
       "      <td>-73.979759</td>\n",
       "      <td>-73.963028</td>\n",
       "      <td>-6.133553e+01</td>\n",
       "    </tr>\n",
       "    <tr>\n",
       "      <th>dropoff_latitude</th>\n",
       "      <td>1229319.0</td>\n",
       "      <td>40.751816</td>\n",
       "      <td>0.036341</td>\n",
       "      <td>32.181141</td>\n",
       "      <td>40.735901</td>\n",
       "      <td>40.754532</td>\n",
       "      <td>40.769821</td>\n",
       "      <td>4.392103e+01</td>\n",
       "    </tr>\n",
       "    <tr>\n",
       "      <th>trip_duration</th>\n",
       "      <td>1229319.0</td>\n",
       "      <td>959.691748</td>\n",
       "      <td>5263.573404</td>\n",
       "      <td>1.000000</td>\n",
       "      <td>397.000000</td>\n",
       "      <td>662.000000</td>\n",
       "      <td>1075.000000</td>\n",
       "      <td>3.526282e+06</td>\n",
       "    </tr>\n",
       "  </tbody>\n",
       "</table>\n",
       "</div>"
      ],
      "text/plain": [
       "                       count        mean          std         min         25%  \\\n",
       "vendor_id          1229319.0    1.534912     0.498780    1.000000    1.000000   \n",
       "passenger_count    1229319.0    1.664531     1.314509    0.000000    1.000000   \n",
       "pickup_longitude   1229319.0  -73.973446     0.061780 -121.933342  -73.991852   \n",
       "pickup_latitude    1229319.0   40.750928     0.033545   34.359695   40.737370   \n",
       "dropoff_longitude  1229319.0  -73.973395     0.061641 -121.933304  -73.991325   \n",
       "dropoff_latitude   1229319.0   40.751816     0.036341   32.181141   40.735901   \n",
       "trip_duration      1229319.0  959.691748  5263.573404    1.000000  397.000000   \n",
       "\n",
       "                          50%          75%           max  \n",
       "vendor_id            2.000000     2.000000  2.000000e+00  \n",
       "passenger_count      1.000000     2.000000  8.000000e+00  \n",
       "pickup_longitude   -73.981728   -73.967346 -6.133553e+01  \n",
       "pickup_latitude     40.754108    40.768360  5.188108e+01  \n",
       "dropoff_longitude  -73.979759   -73.963028 -6.133553e+01  \n",
       "dropoff_latitude    40.754532    40.769821  4.392103e+01  \n",
       "trip_duration      662.000000  1075.000000  3.526282e+06  "
      ]
     },
     "execution_count": 6,
     "metadata": {},
     "output_type": "execute_result"
    }
   ],
   "source": [
    "df.describe(include= np.number).T"
   ]
  },
  {
   "cell_type": "code",
   "execution_count": 7,
   "metadata": {},
   "outputs": [
    {
     "data": {
      "text/html": [
       "<div>\n",
       "<style scoped>\n",
       "    .dataframe tbody tr th:only-of-type {\n",
       "        vertical-align: middle;\n",
       "    }\n",
       "\n",
       "    .dataframe tbody tr th {\n",
       "        vertical-align: top;\n",
       "    }\n",
       "\n",
       "    .dataframe thead th {\n",
       "        text-align: right;\n",
       "    }\n",
       "</style>\n",
       "<table border=\"1\" class=\"dataframe\">\n",
       "  <thead>\n",
       "    <tr style=\"text-align: right;\">\n",
       "      <th></th>\n",
       "      <th>id</th>\n",
       "      <th>pickup_datetime</th>\n",
       "      <th>store_and_fwd_flag</th>\n",
       "    </tr>\n",
       "  </thead>\n",
       "  <tbody>\n",
       "    <tr>\n",
       "      <th>count</th>\n",
       "      <td>1229319</td>\n",
       "      <td>1229319</td>\n",
       "      <td>1229319</td>\n",
       "    </tr>\n",
       "    <tr>\n",
       "      <th>unique</th>\n",
       "      <td>1229319</td>\n",
       "      <td>1173138</td>\n",
       "      <td>2</td>\n",
       "    </tr>\n",
       "    <tr>\n",
       "      <th>top</th>\n",
       "      <td>id3770970</td>\n",
       "      <td>2016-05-07 13:18:07</td>\n",
       "      <td>N</td>\n",
       "    </tr>\n",
       "    <tr>\n",
       "      <th>freq</th>\n",
       "      <td>1</td>\n",
       "      <td>5</td>\n",
       "      <td>1222501</td>\n",
       "    </tr>\n",
       "  </tbody>\n",
       "</table>\n",
       "</div>"
      ],
      "text/plain": [
       "               id      pickup_datetime store_and_fwd_flag\n",
       "count     1229319              1229319            1229319\n",
       "unique    1229319              1173138                  2\n",
       "top     id3770970  2016-05-07 13:18:07                  N\n",
       "freq            1                    5            1222501"
      ]
     },
     "execution_count": 7,
     "metadata": {},
     "output_type": "execute_result"
    }
   ],
   "source": [
    "df.describe(exclude= np.number)"
   ]
  },
  {
   "cell_type": "code",
   "execution_count": 8,
   "metadata": {},
   "outputs": [
    {
     "data": {
      "text/html": [
       "<div>\n",
       "<style scoped>\n",
       "    .dataframe tbody tr th:only-of-type {\n",
       "        vertical-align: middle;\n",
       "    }\n",
       "\n",
       "    .dataframe tbody tr th {\n",
       "        vertical-align: top;\n",
       "    }\n",
       "\n",
       "    .dataframe thead th {\n",
       "        text-align: right;\n",
       "    }\n",
       "</style>\n",
       "<table border=\"1\" class=\"dataframe\">\n",
       "  <thead>\n",
       "    <tr style=\"text-align: right;\">\n",
       "      <th></th>\n",
       "      <th>Count</th>\n",
       "      <th>Null</th>\n",
       "      <th>Null %</th>\n",
       "      <th>Cardinality</th>\n",
       "    </tr>\n",
       "  </thead>\n",
       "  <tbody>\n",
       "    <tr>\n",
       "      <th>id</th>\n",
       "      <td>1229319</td>\n",
       "      <td>0</td>\n",
       "      <td>0.0</td>\n",
       "      <td>1229319</td>\n",
       "    </tr>\n",
       "    <tr>\n",
       "      <th>vendor_id</th>\n",
       "      <td>1229319</td>\n",
       "      <td>0</td>\n",
       "      <td>0.0</td>\n",
       "      <td>2</td>\n",
       "    </tr>\n",
       "    <tr>\n",
       "      <th>pickup_datetime</th>\n",
       "      <td>1229319</td>\n",
       "      <td>0</td>\n",
       "      <td>0.0</td>\n",
       "      <td>1173138</td>\n",
       "    </tr>\n",
       "    <tr>\n",
       "      <th>passenger_count</th>\n",
       "      <td>1229319</td>\n",
       "      <td>0</td>\n",
       "      <td>0.0</td>\n",
       "      <td>9</td>\n",
       "    </tr>\n",
       "    <tr>\n",
       "      <th>pickup_longitude</th>\n",
       "      <td>1229319</td>\n",
       "      <td>0</td>\n",
       "      <td>0.0</td>\n",
       "      <td>22208</td>\n",
       "    </tr>\n",
       "    <tr>\n",
       "      <th>pickup_latitude</th>\n",
       "      <td>1229319</td>\n",
       "      <td>0</td>\n",
       "      <td>0.0</td>\n",
       "      <td>43809</td>\n",
       "    </tr>\n",
       "    <tr>\n",
       "      <th>dropoff_longitude</th>\n",
       "      <td>1229319</td>\n",
       "      <td>0</td>\n",
       "      <td>0.0</td>\n",
       "      <td>32222</td>\n",
       "    </tr>\n",
       "    <tr>\n",
       "      <th>dropoff_latitude</th>\n",
       "      <td>1229319</td>\n",
       "      <td>0</td>\n",
       "      <td>0.0</td>\n",
       "      <td>60233</td>\n",
       "    </tr>\n",
       "    <tr>\n",
       "      <th>store_and_fwd_flag</th>\n",
       "      <td>1229319</td>\n",
       "      <td>0</td>\n",
       "      <td>0.0</td>\n",
       "      <td>2</td>\n",
       "    </tr>\n",
       "    <tr>\n",
       "      <th>trip_duration</th>\n",
       "      <td>1229319</td>\n",
       "      <td>0</td>\n",
       "      <td>0.0</td>\n",
       "      <td>7147</td>\n",
       "    </tr>\n",
       "  </tbody>\n",
       "</table>\n",
       "</div>"
      ],
      "text/plain": [
       "                      Count  Null  Null %  Cardinality\n",
       "id                  1229319     0     0.0      1229319\n",
       "vendor_id           1229319     0     0.0            2\n",
       "pickup_datetime     1229319     0     0.0      1173138\n",
       "passenger_count     1229319     0     0.0            9\n",
       "pickup_longitude    1229319     0     0.0        22208\n",
       "pickup_latitude     1229319     0     0.0        43809\n",
       "dropoff_longitude   1229319     0     0.0        32222\n",
       "dropoff_latitude    1229319     0     0.0        60233\n",
       "store_and_fwd_flag  1229319     0     0.0            2\n",
       "trip_duration       1229319     0     0.0         7147"
      ]
     },
     "execution_count": 8,
     "metadata": {},
     "output_type": "execute_result"
    }
   ],
   "source": [
    "pd.DataFrame({'Count':df.shape[0],\n",
    "            'Null':df.isnull().sum(),\n",
    "            'Null %':df.isnull().mean() * 100,\n",
    "            'Cardinality':df.nunique()\n",
    "})"
   ]
  },
  {
   "cell_type": "code",
   "execution_count": 9,
   "metadata": {},
   "outputs": [
    {
     "data": {
      "text/plain": [
       "Index(['id', 'vendor_id', 'pickup_datetime', 'passenger_count',\n",
       "       'pickup_longitude', 'pickup_latitude', 'dropoff_longitude',\n",
       "       'dropoff_latitude', 'store_and_fwd_flag', 'trip_duration'],\n",
       "      dtype='object')"
      ]
     },
     "execution_count": 9,
     "metadata": {},
     "output_type": "execute_result"
    }
   ],
   "source": [
    "df.columns"
   ]
  },
  {
   "cell_type": "markdown",
   "metadata": {},
   "source": [
    "<div style=\"background-color: #F9F9F9; padding: 40px; border-radius: 20px; box-shadow: 0px 8px 20px rgba(0, 0, 0, 0.1); margin: 20px auto; max-width: 800px; text-align: center;\">\n",
    "  <h2 style=\"color: #2C3E50; font-family: 'Georgia', serif; font-size: 26px; font-weight: bold; letter-spacing: 1.2px; text-transform: uppercase; margin-bottom: 25px;\">\n",
    "    Data Preparation And Feature Engeneering \n",
    "  </h2>\n",
    "    <hr style=\"border: none; border-top: 2px solid #AED6F1; width: 80%; margin: 20px auto;\">\n",
    "</div>"
   ]
  },
  {
   "cell_type": "code",
   "execution_count": 10,
   "metadata": {},
   "outputs": [],
   "source": [
    "def perpare_data (df) :\n",
    "   df.drop(columns=['id'],inplace=True)\n",
    "   \n",
    "   df['pickup_datetime'] = pd.to_datetime(df['pickup_datetime'])\n",
    "   df['weekDay'] = df['pickup_datetime'].dt.strftime('%A')\n",
    "   df['day of year'] = df['pickup_datetime'].dt.dayofyear\n",
    "   df['hours'] = df['pickup_datetime'].dt.hour\n",
    "   df['months'] = df['pickup_datetime'].dt.month_name()\n",
    "   df ['trip_duration_min'] = (df['trip_duration'] / 60 ).round(2)\n",
    "   #target column \n",
    "   df['log_trip_duration'] = np.log1p(df['trip_duration'])\n",
    "\n",
    "perpare_data(df)\n"
   ]
  },
  {
   "cell_type": "markdown",
   "metadata": {},
   "source": [
    "### **Data Preparation Function: `prepare_data(df)`**\n",
    "\n",
    "The `prepare_data` function is designed to preprocess and transform the dataset to make it suitable for analysis and modeling. Below is a detailed breakdown of the steps performed by the function:\n",
    "\n",
    "1. **Dropping Unnecessary Columns**:\n",
    "   - The `id` column is removed from the dataset as it does not contribute to the analysis or model performance.\n",
    "\n",
    "2. **Datetime Conversion and Feature Engineering**:\n",
    "   - The `pickup_datetime` column is converted to a pandas datetime format for easier manipulation.\n",
    "   - Several new features are extracted from the `pickup_datetime` column to capture temporal patterns:\n",
    "     - **Weekday**: The day of the week (e.g., Monday, Tuesday) is extracted using the `%A` format.\n",
    "     - **Day of Year**: The numerical day of the year is calculated (ranging from 1 to 365).\n",
    "     - **Hour**: The hour of the day is extracted to analyze hourly trends.\n",
    "     - **Month**: The name of the month (e.g., January, February) is derived to capture seasonal patterns.\n",
    "\n",
    "3. **Trip Duration Transformation**:\n",
    "   - A new column, `trip_duration_min`, is created to represent the trip duration in minutes (converted from seconds and rounded to two decimal places).\n",
    "   - The target variable, `log_trip_duration`, is computed by applying a logarithmic transformation (`log1p`) to the `trip_duration` column. This transformation helps stabilize variance and handle potential skewness in the target variable, which is particularly useful for regression models.\n",
    "\n",
    "4. **In-Place Modifications**:\n",
    "   - All transformations are applied directly to the input DataFrame (`df`) using the `inplace=True` parameter where applicable, ensuring the changes persist without needing to return a new DataFrame.\n",
    "\n",
    "---\n",
    "\n",
    "### **Why the `id` Column Was Dropped**\n",
    "The `id` column was removed from the dataset because it serves as a unique identifier for each trip and does not provide any meaningful information for analysis or model training. Including such columns can lead to unnecessary noise in the data and may negatively impact the performance of machine learning models, as they do not contribute to predictive power.\n",
    "\n",
    "---"
   ]
  },
  {
   "cell_type": "code",
   "execution_count": 11,
   "metadata": {},
   "outputs": [
    {
     "data": {
      "text/plain": [
       "<Axes: >"
      ]
     },
     "execution_count": 11,
     "metadata": {},
     "output_type": "execute_result"
    },
    {
     "data": {
      "image/png": "[encoded data removed]",
      "text/plain": [
       "<Figure size 640x480 with 1 Axes>"
      ]
     },
     "metadata": {},
     "output_type": "display_data"
    }
   ],
   "source": [
    "# Display the target column after applying log1p\n",
    "df['log_trip_duration'].hist(bins=900)"
   ]
  },
  {
   "cell_type": "code",
   "execution_count": 12,
   "metadata": {},
   "outputs": [],
   "source": [
    "def time_of_day (hours) :\n",
    "   if 0 <= hours <= 5:\n",
    "      return 'Dawn'\n",
    "   elif 6 <= hours <= 11:\n",
    "      return 'Morning'\n",
    "   elif 12 <= hours <= 13:\n",
    "      return 'Noon'\n",
    "   elif 14 <= hours <= 17:\n",
    "      return 'Afternoon'\n",
    "   elif 18 <= hours <= 20:\n",
    "      return 'Evening'\n",
    "   elif 21 <= hours <= 23:\n",
    "      return 'Night'\n",
    "\n",
    "df['time_of_day'] = df['hours'].apply(time_of_day)\n"
   ]
  },
  {
   "cell_type": "markdown",
   "metadata": {},
   "source": [
    "\n",
    "\n",
    "### **Time of Day Categorization**\n",
    "The `time_of_day` function categorizes each trip's hour into one of six time-of-day categories: **Dawn**, **Morning**, **Noon**, **Afternoon**, **Evening**, or **Night**. This is achieved by mapping the `hours` column (extracted from `pickup_datetime`) to predefined time ranges. \n",
    "\n",
    "For example:\n",
    "- Hours between **0 and 5** are labeled as \"Dawn\".\n",
    "- Hours between **6 and 11** are labeled as \"Morning\".\n",
    "- And so on.\n",
    "\n",
    "This transformation helps capture daily temporal patterns in the data, which can be useful for analysis ."
   ]
  },
  {
   "cell_type": "code",
   "execution_count": 13,
   "metadata": {},
   "outputs": [],
   "source": [
    "\n",
    "def cal_distance(lat_1 ,lat_2 , long_1 , long_2) : \n",
    "   earth_radius = 6371.0\n",
    "   lat_1 = np.radians(lat_1)\n",
    "   lat_2 = np.radians(lat_2)\n",
    "   long_1 = np.radians(long_1)\n",
    "   long_2 = np.radians(long_2)\n",
    "   dlat = lat_2 - lat_1 \n",
    "   dlong = long_2 - long_1\n",
    "   # Haversine Law \n",
    "   a = np.sin(dlat / 2)**2 + np.cos(lat_1) * np.cos(lat_2) * np.sin(dlong / 2) ** 2 \n",
    "   c = 2 * np.arctan2(np.sqrt(a) , np.sqrt(1 - a)) \n",
    "   distacne = c * earth_radius\n",
    "   \n",
    "   return distacne\n",
    "\n",
    "\n",
    "df['Distance_Km']=cal_distance(\n",
    "   df['pickup_latitude'].values , \n",
    "   df['dropoff_latitude'].values ,\n",
    "   df['pickup_longitude'].values ,\n",
    "   df['dropoff_longitude'] \n",
    "   )\n",
    "df['Distance_Km'] = df['Distance_Km'].round(2)\n"
   ]
  },
  {
   "cell_type": "markdown",
   "metadata": {},
   "source": [
    "\n",
    "\n",
    "### **Distance Calculation Using Haversine Formula**\n",
    "The `cal_distance` function calculates the distance between two geographic locations (pickup and dropoff points) using the **Haversine formula**. This formula computes the great-circle distance between two points on the Earth's surface, given their latitude and longitude coordinates.\n",
    "\n",
    "#### **Application in the Dataset:**\n",
    "- A new column, `Distance_Km`, is added to the dataset, representing the trip distance in kilometers.\n",
    "- This feature is valuable for analysis and modeling, as it provides a direct measure of the trip's length.\n"
   ]
  },
  {
   "cell_type": "code",
   "execution_count": 14,
   "metadata": {},
   "outputs": [],
   "source": [
    "# becarful this column must be droup before modeling bec. it can cause Data leakedge\n",
    "df['speed_km/h'] = ((df['Distance_Km'] / df['trip_duration'] ) *3600 ).round(2)"
   ]
  },
  {
   "cell_type": "markdown",
   "metadata": {},
   "source": [
    "\n",
    "### **Speed Calculation**\n",
    "A new column, `speed_km/h`, is created to represent the average speed of each trip in kilometers per hour (km/h). This is calculated using the formula:\n",
    "\n",
    "$$\n",
    "\\text{Speed (km/h)} = \\left(\\frac{\\text{Distance (km)}}{\\text{Trip Duration (seconds)}}\\right) \\times 3600\n",
    "$$\n",
    "\n",
    "The resulting values are rounded to two decimal places for simplicity.\n",
    "\n",
    "#### **Purpose:**\n",
    "The `speed_km/h` column provides insights into the average speed of trips, which can be useful for exploratory data analysis (EDA) and understanding patterns in the data.\n",
    "\n",
    "---\n",
    "\n",
    "### **⚠️ Important Note on Data Leakage**\n",
    "The `speed_km/h` column **must be dropped before modeling** because it is derived from the target variable (`trip_duration`). Including this column during model training can lead to **data leakage**, where information from the target variable inadvertently influences the model. This compromises the model's ability to generalize to unseen data.\n",
    "\n",
    "To avoid this issue:\n",
    "1. Use the `speed_km/h` column only for EDA or feature analysis.\n",
    "2. Drop the column before splitting the data into training and testing sets or before feeding it into the model.\n"
   ]
  },
  {
   "cell_type": "code",
   "execution_count": 15,
   "metadata": {},
   "outputs": [],
   "source": [
    "def is_weekend (day) :\n",
    "   if day == 'Sunday' or day == 'Saturday' :\n",
    "      return 'weekend'\n",
    "   else:\n",
    "      return 'weekDay'\n",
    "   \n",
    "\n",
    "df['is_weekend'] = df['weekDay'].apply(is_weekend)\n",
    "\n",
    "def map_vendor (x) :\n",
    "   if x == 1 :\n",
    "      return 'A' \n",
    "   else:\n",
    "      return 'B' \n",
    "\n",
    "df['vendor_map'] = df['vendor_id'].apply(map_vendor)\n"
   ]
  },
  {
   "cell_type": "markdown",
   "metadata": {},
   "source": [
    "Here’s a simple and professional description of the two functions (`is_weekend` and `map_vendor`) and their application in your code:\n",
    "\n",
    "---\n",
    "\n",
    "### **1. Weekend vs Weekday Categorization**\n",
    "The `is_weekend` function categorizes each trip's day of the week into either **\"weekend\"** or **\"weekday\"**:\n",
    "- Days classified as **\"Saturday\"** or **\"Sunday\"** are labeled as **\"weekend\"**.\n",
    "- All other days (Monday through Friday) are labeled as **\"weekday\"**.\n",
    "\n",
    "This transformation helps analyze trip patterns based on whether the trip occurred during the weekend or on a weekday.\n",
    "\n",
    "#### **Application in the Dataset:**\n",
    "A new column, `is_weekend`, is added to the dataset by applying the `is_weekend` function to the `weekDay` column. This allows for easier grouping and analysis of trips by weekend/weekday categories.\n",
    "\n",
    "---\n",
    "\n",
    "### **2. Vendor Mapping**\n",
    "The `map_vendor` function maps the `vendor_id` values to more interpretable labels:\n",
    "- A `vendor_id` of **1** is mapped to **\"A\"**.\n",
    "- Any other value (e.g., 2) is mapped to **\"B\"**.\n",
    "\n",
    "This mapping simplifies the representation of vendors in the dataset and makes it easier to interpret vendor-related trends.\n",
    "\n",
    "#### **Application in the Dataset:**\n",
    "A new column, `vendor_map`, is added to the dataset by applying the `map_vendor` function to the `vendor_id` column. This provides a clear and concise way to distinguish between vendors.\n",
    "\n",
    "\n",
    "### **Key Takeaways:**\n",
    "1. **`is_weekend`:** Helps identify whether a trip occurred on a weekend or weekday, enabling analysis of temporal patterns.\n",
    "2. **`map_vendor`:** Simplifies vendor representation by mapping numeric IDs to labels (\"A\" or \"B\"), making the data more interpretable.\n",
    "3. Both transformations enhance the dataset's usability for analysis and visualization while maintaining clarity.\n",
    "\n"
   ]
  },
  {
   "cell_type": "markdown",
   "metadata": {},
   "source": [
    "<div style=\"background-color: #F9F9F9; padding: 40px; border-radius: 20px; box-shadow: 0px 8px 20px rgba(0, 0, 0, 0.1); margin: 20px auto; max-width: 800px; text-align: center;\">\n",
    "  <h2 style=\"color: #2C3E50; font-family: 'Georgia', serif; font-size: 26px; font-weight: bold; letter-spacing: 1.2px; text-transform: uppercase; margin-bottom: 25px;\">\n",
    "    Data Visualization  \n",
    "  </h2>\n",
    "    <hr style=\"border: none; border-top: 2px solid #AED6F1; width: 80%; margin: 20px auto;\">\n",
    "</div>"
   ]
  },
  {
   "cell_type": "code",
   "execution_count": 16,
   "metadata": {},
   "outputs": [
    {
     "data": {
      "application/vnd.plotly.v1+json": {
       "config": {
        "plotlyServerURL": "https://plot.ly"
       },
       "data": [
        {
         "domain": {
          "x": [
           0,
           0.45
          ],
          "y": [
           0,
           1
          ]
         },
         "hole": 0.2,
         "labels": [
          "N",
          "Y"
         ],
         "marker": {
          "colors": [
           "rgb(0,0,131)",
           "rgb(0,60,170)",
           "rgb(5,255,255)",
           "rgb(255,255,0)",
           "rgb(250,0,0)",
           "rgb(128,0,0)"
          ]
         },
         "name": "Store And Fwd Flag",
         "textinfo": "label+percent",
         "type": "pie",
         "values": {
          "bdata": "ZacSAKIaAAA=",
          "dtype": "i4"
         }
        },
        {
         "domain": {
          "x": [
           0.55,
           1
          ],
          "y": [
           0,
           1
          ]
         },
         "hole": 0.2,
         "labels": [
          "B",
          "A"
         ],
         "marker": {
          "colors": [
           "rgb(0,0,131)",
           "rgb(0,60,170)",
           "rgb(5,255,255)",
           "rgb(255,255,0)",
           "rgb(250,0,0)",
           "rgb(128,0,0)"
          ]
         },
         "name": "Vendor",
         "textinfo": "label+percent",
         "type": "pie",
         "values": {
          "bdata": "qggKAF25CAA=",
          "dtype": "i4"
         }
        }
       ],
       "layout": {
        "annotations": [
         {
          "font": {
           "size": 14
          },
          "showarrow": false,
          "text": "Store And Fwd Flag",
          "x": 0.22,
          "xanchor": "center",
          "xref": "paper",
          "y": 0.8,
          "yanchor": "bottom",
          "yref": "paper"
         },
         {
          "font": {
           "size": 14
          },
          "showarrow": false,
          "text": "Vendor",
          "x": 0.78,
          "xanchor": "center",
          "xref": "paper",
          "y": 0.8,
          "yanchor": "bottom",
          "yref": "paper"
         }
        ],
        "template": {
         "data": {
          "bar": [
           {
            "error_x": {
             "color": "#f2f5fa"
            },
            "error_y": {
             "color": "#f2f5fa"
            },
            "marker": {
             "line": {
              "color": "rgb(17,17,17)",
              "width": 0.5
             },
             "pattern": {
              "fillmode": "overlay",
              "size": 10,
              "solidity": 0.2
             }
            },
            "type": "bar"
           }
          ],
          "barpolar": [
           {
            "marker": {
             "line": {
              "color": "rgb(17,17,17)",
              "width": 0.5
             },
             "pattern": {
              "fillmode": "overlay",
              "size": 10,
              "solidity": 0.2
             }
            },
            "type": "barpolar"
           }
          ],
          "carpet": [
           {
            "aaxis": {
             "endlinecolor": "#A2B1C6",
             "gridcolor": "#506784",
             "linecolor": "#506784",
             "minorgridcolor": "#506784",
             "startlinecolor": "#A2B1C6"
            },
            "baxis": {
             "endlinecolor": "#A2B1C6",
             "gridcolor": "#506784",
             "linecolor": "#506784",
             "minorgridcolor": "#506784",
             "startlinecolor": "#A2B1C6"
            },
            "type": "carpet"
           }
          ],
          "choropleth": [
           {
            "colorbar": {
             "outlinewidth": 0,
             "ticks": ""
            },
            "type": "choropleth"
           }
          ],
          "contour": [
           {
            "colorbar": {
             "outlinewidth": 0,
             "ticks": ""
            },
            "colorscale": [
             [
              0,
              "#0d0887"
             ],
             [
              0.1111111111111111,
              "#46039f"
             ],
             [
              0.2222222222222222,
              "#7201a8"
             ],
             [
              0.3333333333333333,
              "#9c179e"
             ],
             [
              0.4444444444444444,
              "#bd3786"
             ],
             [
              0.5555555555555556,
              "#d8576b"
             ],
             [
              0.6666666666666666,
              "#ed7953"
             ],
             [
              0.7777777777777778,
              "#fb9f3a"
             ],
             [
              0.8888888888888888,
              "#fdca26"
             ],
             [
              1,
              "#f0f921"
             ]
            ],
            "type": "contour"
           }
          ],
          "contourcarpet": [
           {
            "colorbar": {
             "outlinewidth": 0,
             "ticks": ""
            },
            "type": "contourcarpet"
           }
          ],
          "heatmap": [
           {
            "colorbar": {
             "outlinewidth": 0,
             "ticks": ""
            },
            "colorscale": [
             [
              0,
              "#0d0887"
             ],
             [
              0.1111111111111111,
              "#46039f"
             ],
             [
              0.2222222222222222,
              "#7201a8"
             ],
             [
              0.3333333333333333,
              "#9c179e"
             ],
             [
              0.4444444444444444,
              "#bd3786"
             ],
             [
              0.5555555555555556,
              "#d8576b"
             ],
             [
              0.6666666666666666,
              "#ed7953"
             ],
             [
              0.7777777777777778,
              "#fb9f3a"
             ],
             [
              0.8888888888888888,
              "#fdca26"
             ],
             [
              1,
              "#f0f921"
             ]
            ],
            "type": "heatmap"
           }
          ],
          "histogram": [
           {
            "marker": {
             "pattern": {
              "fillmode": "overlay",
              "size": 10,
              "solidity": 0.2
             }
            },
            "type": "histogram"
           }
          ],
          "histogram2d": [
           {
            "colorbar": {
             "outlinewidth": 0,
             "ticks": ""
            },
            "colorscale": [
             [
              0,
              "#0d0887"
             ],
             [
              0.1111111111111111,
              "#46039f"
             ],
             [
              0.2222222222222222,
              "#7201a8"
             ],
             [
              0.3333333333333333,
              "#9c179e"
             ],
             [
              0.4444444444444444,
              "#bd3786"
             ],
             [
              0.5555555555555556,
              "#d8576b"
             ],
             [
              0.6666666666666666,
              "#ed7953"
             ],
             [
              0.7777777777777778,
              "#fb9f3a"
             ],
             [
              0.8888888888888888,
              "#fdca26"
             ],
             [
              1,
              "#f0f921"
             ]
            ],
            "type": "histogram2d"
           }
          ],
          "histogram2dcontour": [
           {
            "colorbar": {
             "outlinewidth": 0,
             "ticks": ""
            },
            "colorscale": [
             [
              0,
              "#0d0887"
             ],
             [
              0.1111111111111111,
              "#46039f"
             ],
             [
              0.2222222222222222,
              "#7201a8"
             ],
             [
              0.3333333333333333,
              "#9c179e"
             ],
             [
              0.4444444444444444,
              "#bd3786"
             ],
             [
              0.5555555555555556,
              "#d8576b"
             ],
             [
              0.6666666666666666,
              "#ed7953"
             ],
             [
              0.7777777777777778,
              "#fb9f3a"
             ],
             [
              0.8888888888888888,
              "#fdca26"
             ],
             [
              1,
              "#f0f921"
             ]
            ],
            "type": "histogram2dcontour"
           }
          ],
          "mesh3d": [
           {
            "colorbar": {
             "outlinewidth": 0,
             "ticks": ""
            },
            "type": "mesh3d"
           }
          ],
          "parcoords": [
           {
            "line": {
             "colorbar": {
              "outlinewidth": 0,
              "ticks": ""
             }
            },
            "type": "parcoords"
           }
          ],
          "pie": [
           {
            "automargin": true,
            "type": "pie"
           }
          ],
          "scatter": [
           {
            "marker": {
             "line": {
              "color": "#283442"
             }
            },
            "type": "scatter"
           }
          ],
          "scatter3d": [
           {
            "line": {
             "colorbar": {
              "outlinewidth": 0,
              "ticks": ""
             }
            },
            "marker": {
             "colorbar": {
              "outlinewidth": 0,
              "ticks": ""
             }
            },
            "type": "scatter3d"
           }
          ],
          "scattercarpet": [
           {
            "marker": {
             "colorbar": {
              "outlinewidth": 0,
              "ticks": ""
             }
            },
            "type": "scattercarpet"
           }
          ],
          "scattergeo": [
           {
            "marker": {
             "colorbar": {
              "outlinewidth": 0,
              "ticks": ""
             }
            },
            "type": "scattergeo"
           }
          ],
          "scattergl": [
           {
            "marker": {
             "line": {
              "color": "#283442"
             }
            },
            "type": "scattergl"
           }
          ],
          "scattermap": [
           {
            "marker": {
             "colorbar": {
              "outlinewidth": 0,
              "ticks": ""
             }
            },
            "type": "scattermap"
           }
          ],
          "scattermapbox": [
           {
            "marker": {
             "colorbar": {
              "outlinewidth": 0,
              "ticks": ""
             }
            },
            "type": "scattermapbox"
           }
          ],
          "scatterpolar": [
           {
            "marker": {
             "colorbar": {
              "outlinewidth": 0,
              "ticks": ""
             }
            },
            "type": "scatterpolar"
           }
          ],
          "scatterpolargl": [
           {
            "marker": {
             "colorbar": {
              "outlinewidth": 0,
              "ticks": ""
             }
            },
            "type": "scatterpolargl"
           }
          ],
          "scatterternary": [
           {
            "marker": {
             "colorbar": {
              "outlinewidth": 0,
              "ticks": ""
             }
            },
            "type": "scatterternary"
           }
          ],
          "surface": [
           {
            "colorbar": {
             "outlinewidth": 0,
             "ticks": ""
            },
            "colorscale": [
             [
              0,
              "#0d0887"
             ],
             [
              0.1111111111111111,
              "#46039f"
             ],
             [
              0.2222222222222222,
              "#7201a8"
             ],
             [
              0.3333333333333333,
              "#9c179e"
             ],
             [
              0.4444444444444444,
              "#bd3786"
             ],
             [
              0.5555555555555556,
              "#d8576b"
             ],
             [
              0.6666666666666666,
              "#ed7953"
             ],
             [
              0.7777777777777778,
              "#fb9f3a"
             ],
             [
              0.8888888888888888,
              "#fdca26"
             ],
             [
              1,
              "#f0f921"
             ]
            ],
            "type": "surface"
           }
          ],
          "table": [
           {
            "cells": {
             "fill": {
              "color": "#506784"
             },
             "line": {
              "color": "rgb(17,17,17)"
             }
            },
            "header": {
             "fill": {
              "color": "#2a3f5f"
             },
             "line": {
              "color": "rgb(17,17,17)"
             }
            },
            "type": "table"
           }
          ]
         },
         "layout": {
          "annotationdefaults": {
           "arrowcolor": "#f2f5fa",
           "arrowhead": 0,
           "arrowwidth": 1
          },
          "autotypenumbers": "strict",
          "coloraxis": {
           "colorbar": {
            "outlinewidth": 0,
            "ticks": ""
           }
          },
          "colorscale": {
           "diverging": [
            [
             0,
             "#8e0152"
            ],
            [
             0.1,
             "#c51b7d"
            ],
            [
             0.2,
             "#de77ae"
            ],
            [
             0.3,
             "#f1b6da"
            ],
            [
             0.4,
             "#fde0ef"
            ],
            [
             0.5,
             "#f7f7f7"
            ],
            [
             0.6,
             "#e6f5d0"
            ],
            [
             0.7,
             "#b8e186"
            ],
            [
             0.8,
             "#7fbc41"
            ],
            [
             0.9,
             "#4d9221"
            ],
            [
             1,
             "#276419"
            ]
           ],
           "sequential": [
            [
             0,
             "#0d0887"
            ],
            [
             0.1111111111111111,
             "#46039f"
            ],
            [
             0.2222222222222222,
             "#7201a8"
            ],
            [
             0.3333333333333333,
             "#9c179e"
            ],
            [
             0.4444444444444444,
             "#bd3786"
            ],
            [
             0.5555555555555556,
             "#d8576b"
            ],
            [
             0.6666666666666666,
             "#ed7953"
            ],
            [
             0.7777777777777778,
             "#fb9f3a"
            ],
            [
             0.8888888888888888,
             "#fdca26"
            ],
            [
             1,
             "#f0f921"
            ]
           ],
           "sequentialminus": [
            [
             0,
             "#0d0887"
            ],
            [
             0.1111111111111111,
             "#46039f"
            ],
            [
             0.2222222222222222,
             "#7201a8"
            ],
            [
             0.3333333333333333,
             "#9c179e"
            ],
            [
             0.4444444444444444,
             "#bd3786"
            ],
            [
             0.5555555555555556,
             "#d8576b"
            ],
            [
             0.6666666666666666,
             "#ed7953"
            ],
            [
             0.7777777777777778,
             "#fb9f3a"
            ],
            [
             0.8888888888888888,
             "#fdca26"
            ],
            [
             1,
             "#f0f921"
            ]
           ]
          },
          "colorway": [
           "#636efa",
           "#EF553B",
           "#00cc96",
           "#ab63fa",
           "#FFA15A",
           "#19d3f3",
           "#FF6692",
           "#B6E880",
           "#FF97FF",
           "#FECB52"
          ],
          "font": {
           "color": "#f2f5fa"
          },
          "geo": {
           "bgcolor": "rgb(17,17,17)",
           "lakecolor": "rgb(17,17,17)",
           "landcolor": "rgb(17,17,17)",
           "showlakes": true,
           "showland": true,
           "subunitcolor": "#506784"
          },
          "hoverlabel": {
           "align": "left"
          },
          "hovermode": "closest",
          "mapbox": {
           "style": "dark"
          },
          "paper_bgcolor": "rgb(17,17,17)",
          "plot_bgcolor": "rgb(17,17,17)",
          "polar": {
           "angularaxis": {
            "gridcolor": "#506784",
            "linecolor": "#506784",
            "ticks": ""
           },
           "bgcolor": "rgb(17,17,17)",
           "radialaxis": {
            "gridcolor": "#506784",
            "linecolor": "#506784",
            "ticks": ""
           }
          },
          "scene": {
           "xaxis": {
            "backgroundcolor": "rgb(17,17,17)",
            "gridcolor": "#506784",
            "gridwidth": 2,
            "linecolor": "#506784",
            "showbackground": true,
            "ticks": "",
            "zerolinecolor": "#C8D4E3"
           },
           "yaxis": {
            "backgroundcolor": "rgb(17,17,17)",
            "gridcolor": "#506784",
            "gridwidth": 2,
            "linecolor": "#506784",
            "showbackground": true,
            "ticks": "",
            "zerolinecolor": "#C8D4E3"
           },
           "zaxis": {
            "backgroundcolor": "rgb(17,17,17)",
            "gridcolor": "#506784",
            "gridwidth": 2,
            "linecolor": "#506784",
            "showbackground": true,
            "ticks": "",
            "zerolinecolor": "#C8D4E3"
           }
          },
          "shapedefaults": {
           "line": {
            "color": "#f2f5fa"
           }
          },
          "sliderdefaults": {
           "bgcolor": "#C8D4E3",
           "bordercolor": "rgb(17,17,17)",
           "borderwidth": 1,
           "tickwidth": 0
          },
          "ternary": {
           "aaxis": {
            "gridcolor": "#506784",
            "linecolor": "#506784",
            "ticks": ""
           },
           "baxis": {
            "gridcolor": "#506784",
            "linecolor": "#506784",
            "ticks": ""
           },
           "bgcolor": "rgb(17,17,17)",
           "caxis": {
            "gridcolor": "#506784",
            "linecolor": "#506784",
            "ticks": ""
           }
          },
          "title": {
           "x": 0.05
          },
          "updatemenudefaults": {
           "bgcolor": "#506784",
           "borderwidth": 0
          },
          "xaxis": {
           "automargin": true,
           "gridcolor": "#283442",
           "linecolor": "#506784",
           "ticks": "",
           "title": {
            "standoff": 15
           },
           "zerolinecolor": "#283442",
           "zerolinewidth": 2
          },
          "yaxis": {
           "automargin": true,
           "gridcolor": "#283442",
           "linecolor": "#506784",
           "ticks": "",
           "title": {
            "standoff": 15
           },
           "zerolinecolor": "#283442",
           "zerolinewidth": 2
          }
         }
        },
        "title": {
         "text": "Distribution of Taxi Trips by Vendor and Store-and-Forward Status"
        }
       }
      }
     },
     "metadata": {},
     "output_type": "display_data"
    }
   ],
   "source": [
    "vendor = df['vendor_map'].value_counts().reset_index(name='Trip Count')\n",
    "vendor.columns = ['vendor_map', 'Trip Count']\n",
    "\n",
    "store_and_fwd_flag_sum = df['store_and_fwd_flag'].value_counts().reset_index(name='Trip Count')\n",
    "store_and_fwd_flag_sum.columns = ['store_and_fwd_flag', 'Trip Count']\n",
    "\n",
    "fig = make_subplots(\n",
    "   rows=1, cols=2,\n",
    "   subplot_titles=['Store And Fwd Flag Distribution', 'Trips Per Vendor'],\n",
    "   specs=[[{'type':'domain'}, {'type':'domain'}]]\n",
    ")\n",
    "\n",
    "fig.add_trace(go.Pie(\n",
    "   labels=store_and_fwd_flag_sum['store_and_fwd_flag'],\n",
    "   values=store_and_fwd_flag_sum['Trip Count'],\n",
    "   name=\"Store And Fwd Flag\" ,\n",
    "   marker=dict(colors=px.colors.sequential.Jet),\n",
    "   hole=0.2 ,\n",
    "), row=1, col=1)\n",
    "\n",
    "fig.add_trace(go.Pie(\n",
    "   labels=vendor['vendor_map'],\n",
    "   values=vendor['Trip Count'],\n",
    "   name=\"Vendor\",\n",
    "   hole=0.2 ,\n",
    "   marker=dict(colors=px.colors.sequential.Jet)\n",
    "), row=1, col=2)\n",
    "\n",
    "fig.update_layout(\n",
    "   template='plotly_dark',\n",
    "   title_text=\"Distribution of Taxi Trips by Vendor and Store-and-Forward Status\",\n",
    "   annotations=[\n",
    "       dict(text=\"Store And Fwd Flag\", x=0.22, y=0.8, font_size=14, showarrow=False),\n",
    "       dict(text='Vendor', x=0.78, y=0.8, font_size=14, showarrow=False)\n",
    "   ]\n",
    ")\n",
    "fig.update_traces(textinfo='label+percent')\n",
    "\n",
    "fig.show()\n"
   ]
  },
  {
   "cell_type": "markdown",
   "metadata": {},
   "source": [
    "### **Conclusion and Insights**\n",
    "\n",
    "#### **1. `Store-and-Forward Trips`**\n",
    "- **99.4%** of trips were transmitted directly (`store_and_fwd_flag = N`), indicating strong network connectivity.\n",
    "- Only **0.555%** of trips were stored in vehicle memory before transmission (`store_and_fwd_flag = Y`), reflecting minimal connectivity issues.\n",
    "\n",
    "**Key Insight:**  \n",
    "The vast majority of trips had no connectivity problems, suggesting reliable server communication.\n",
    "\n",
    "---\n",
    "\n",
    "#### **2. `Vendor Distribution`**\n",
    "- **Vendor A** handled **46.5%** of the trips.\n",
    "- **Vendor B** handled **53.5%** of the trips.\n",
    "\n",
    "**Key Insight:**  \n",
    "Vendor B slightly outperformed Vendor A, capturing a larger share of the market. This suggests Vendor B may have more drivers or serve more demand.\n",
    "\n",
    "---\n"
   ]
  },
  {
   "cell_type": "code",
   "execution_count": 17,
   "metadata": {},
   "outputs": [
    {
     "data": {
      "application/vnd.plotly.v1+json": {
       "config": {
        "plotlyServerURL": "https://plot.ly"
       },
       "data": [
        {
         "marker": {
          "color": [
           "rgb(36, 86, 104)",
           "rgb(15, 114, 121)",
           "rgb(13, 143, 129)",
           "rgb(57, 171, 126)",
           "rgb(110, 197, 116)",
           "rgb(169, 220, 103)",
           "rgb(237, 239, 93)"
          ]
         },
         "name": "Passengers Count",
         "type": "bar",
         "x": {
          "bdata": "AQIFAwYEAAcI",
          "dtype": "i1"
         },
         "xaxis": "x",
         "y": {
          "bdata": "IksNALGzAgAFAQEAJsUAAFafAAB8XQAAMwAAAAMAAAABAAAA",
          "dtype": "i4"
         },
         "yaxis": "y"
        },
        {
         "marker": {
          "color": [
           "rgb(237, 239, 93)",
           "rgb(169, 220, 103)",
           "rgb(110, 197, 116)",
           "rgb(57, 171, 126)",
           "rgb(13, 143, 129)",
           "rgb(15, 114, 121)",
           "rgb(36, 86, 104)"
          ]
         },
         "name": "Avg Trip Duration",
         "type": "bar",
         "x": {
          "bdata": "AAECAwQFBgcI",
          "dtype": "i1"
         },
         "xaxis": "x2",
         "y": {
          "bdata": "pHA9CtdjQEB7FK5H4fouQI/C9ShczzBAw/UoXI9CMUDhehSuR6ExQI/C9ShczzFAw/UoXI/CMUAfhetRuB7VP65H4XoUrvs/",
          "dtype": "f8"
         },
         "yaxis": "y2"
        }
       ],
       "layout": {
        "annotations": [
         {
          "font": {
           "size": 16
          },
          "showarrow": false,
          "text": "Distribution of Trips by Number of Passengers",
          "x": 0.5,
          "xanchor": "center",
          "xref": "paper",
          "y": 1,
          "yanchor": "bottom",
          "yref": "paper"
         },
         {
          "font": {
           "size": 16
          },
          "showarrow": false,
          "text": "AVG Trip Duration vs. Passenger Count",
          "x": 0.5,
          "xanchor": "center",
          "xref": "paper",
          "y": 0.375,
          "yanchor": "bottom",
          "yref": "paper"
         }
        ],
        "barcornerradius": 10,
        "height": 500,
        "template": {
         "data": {
          "bar": [
           {
            "error_x": {
             "color": "#f2f5fa"
            },
            "error_y": {
             "color": "#f2f5fa"
            },
            "marker": {
             "line": {
              "color": "rgb(17,17,17)",
              "width": 0.5
             },
             "pattern": {
              "fillmode": "overlay",
              "size": 10,
              "solidity": 0.2
             }
            },
            "type": "bar"
           }
          ],
          "barpolar": [
           {
            "marker": {
             "line": {
              "color": "rgb(17,17,17)",
              "width": 0.5
             },
             "pattern": {
              "fillmode": "overlay",
              "size": 10,
              "solidity": 0.2
             }
            },
            "type": "barpolar"
           }
          ],
          "carpet": [
           {
            "aaxis": {
             "endlinecolor": "#A2B1C6",
             "gridcolor": "#506784",
             "linecolor": "#506784",
             "minorgridcolor": "#506784",
             "startlinecolor": "#A2B1C6"
            },
            "baxis": {
             "endlinecolor": "#A2B1C6",
             "gridcolor": "#506784",
             "linecolor": "#506784",
             "minorgridcolor": "#506784",
             "startlinecolor": "#A2B1C6"
            },
            "type": "carpet"
           }
          ],
          "choropleth": [
           {
            "colorbar": {
             "outlinewidth": 0,
             "ticks": ""
            },
            "type": "choropleth"
           }
          ],
          "contour": [
           {
            "colorbar": {
             "outlinewidth": 0,
             "ticks": ""
            },
            "colorscale": [
             [
              0,
              "#0d0887"
             ],
             [
              0.1111111111111111,
              "#46039f"
             ],
             [
              0.2222222222222222,
              "#7201a8"
             ],
             [
              0.3333333333333333,
              "#9c179e"
             ],
             [
              0.4444444444444444,
              "#bd3786"
             ],
             [
              0.5555555555555556,
              "#d8576b"
             ],
             [
              0.6666666666666666,
              "#ed7953"
             ],
             [
              0.7777777777777778,
              "#fb9f3a"
             ],
             [
              0.8888888888888888,
              "#fdca26"
             ],
             [
              1,
              "#f0f921"
             ]
            ],
            "type": "contour"
           }
          ],
          "contourcarpet": [
           {
            "colorbar": {
             "outlinewidth": 0,
             "ticks": ""
            },
            "type": "contourcarpet"
           }
          ],
          "heatmap": [
           {
            "colorbar": {
             "outlinewidth": 0,
             "ticks": ""
            },
            "colorscale": [
             [
              0,
              "#0d0887"
             ],
             [
              0.1111111111111111,
              "#46039f"
             ],
             [
              0.2222222222222222,
              "#7201a8"
             ],
             [
              0.3333333333333333,
              "#9c179e"
             ],
             [
              0.4444444444444444,
              "#bd3786"
             ],
             [
              0.5555555555555556,
              "#d8576b"
             ],
             [
              0.6666666666666666,
              "#ed7953"
             ],
             [
              0.7777777777777778,
              "#fb9f3a"
             ],
             [
              0.8888888888888888,
              "#fdca26"
             ],
             [
              1,
              "#f0f921"
             ]
            ],
            "type": "heatmap"
           }
          ],
          "histogram": [
           {
            "marker": {
             "pattern": {
              "fillmode": "overlay",
              "size": 10,
              "solidity": 0.2
             }
            },
            "type": "histogram"
           }
          ],
          "histogram2d": [
           {
            "colorbar": {
             "outlinewidth": 0,
             "ticks": ""
            },
            "colorscale": [
             [
              0,
              "#0d0887"
             ],
             [
              0.1111111111111111,
              "#46039f"
             ],
             [
              0.2222222222222222,
              "#7201a8"
             ],
             [
              0.3333333333333333,
              "#9c179e"
             ],
             [
              0.4444444444444444,
              "#bd3786"
             ],
             [
              0.5555555555555556,
              "#d8576b"
             ],
             [
              0.6666666666666666,
              "#ed7953"
             ],
             [
              0.7777777777777778,
              "#fb9f3a"
             ],
             [
              0.8888888888888888,
              "#fdca26"
             ],
             [
              1,
              "#f0f921"
             ]
            ],
            "type": "histogram2d"
           }
          ],
          "histogram2dcontour": [
           {
            "colorbar": {
             "outlinewidth": 0,
             "ticks": ""
            },
            "colorscale": [
             [
              0,
              "#0d0887"
             ],
             [
              0.1111111111111111,
              "#46039f"
             ],
             [
              0.2222222222222222,
              "#7201a8"
             ],
             [
              0.3333333333333333,
              "#9c179e"
             ],
             [
              0.4444444444444444,
              "#bd3786"
             ],
             [
              0.5555555555555556,
              "#d8576b"
             ],
             [
              0.6666666666666666,
              "#ed7953"
             ],
             [
              0.7777777777777778,
              "#fb9f3a"
             ],
             [
              0.8888888888888888,
              "#fdca26"
             ],
             [
              1,
              "#f0f921"
             ]
            ],
            "type": "histogram2dcontour"
           }
          ],
          "mesh3d": [
           {
            "colorbar": {
             "outlinewidth": 0,
             "ticks": ""
            },
            "type": "mesh3d"
           }
          ],
          "parcoords": [
           {
            "line": {
             "colorbar": {
              "outlinewidth": 0,
              "ticks": ""
             }
            },
            "type": "parcoords"
           }
          ],
          "pie": [
           {
            "automargin": true,
            "type": "pie"
           }
          ],
          "scatter": [
           {
            "marker": {
             "line": {
              "color": "#283442"
             }
            },
            "type": "scatter"
           }
          ],
          "scatter3d": [
           {
            "line": {
             "colorbar": {
              "outlinewidth": 0,
              "ticks": ""
             }
            },
            "marker": {
             "colorbar": {
              "outlinewidth": 0,
              "ticks": ""
             }
            },
            "type": "scatter3d"
           }
          ],
          "scattercarpet": [
           {
            "marker": {
             "colorbar": {
              "outlinewidth": 0,
              "ticks": ""
             }
            },
            "type": "scattercarpet"
           }
          ],
          "scattergeo": [
           {
            "marker": {
             "colorbar": {
              "outlinewidth": 0,
              "ticks": ""
             }
            },
            "type": "scattergeo"
           }
          ],
          "scattergl": [
           {
            "marker": {
             "line": {
              "color": "#283442"
             }
            },
            "type": "scattergl"
           }
          ],
          "scattermap": [
           {
            "marker": {
             "colorbar": {
              "outlinewidth": 0,
              "ticks": ""
             }
            },
            "type": "scattermap"
           }
          ],
          "scattermapbox": [
           {
            "marker": {
             "colorbar": {
              "outlinewidth": 0,
              "ticks": ""
             }
            },
            "type": "scattermapbox"
           }
          ],
          "scatterpolar": [
           {
            "marker": {
             "colorbar": {
              "outlinewidth": 0,
              "ticks": ""
             }
            },
            "type": "scatterpolar"
           }
          ],
          "scatterpolargl": [
           {
            "marker": {
             "colorbar": {
              "outlinewidth": 0,
              "ticks": ""
             }
            },
            "type": "scatterpolargl"
           }
          ],
          "scatterternary": [
           {
            "marker": {
             "colorbar": {
              "outlinewidth": 0,
              "ticks": ""
             }
            },
            "type": "scatterternary"
           }
          ],
          "surface": [
           {
            "colorbar": {
             "outlinewidth": 0,
             "ticks": ""
            },
            "colorscale": [
             [
              0,
              "#0d0887"
             ],
             [
              0.1111111111111111,
              "#46039f"
             ],
             [
              0.2222222222222222,
              "#7201a8"
             ],
             [
              0.3333333333333333,
              "#9c179e"
             ],
             [
              0.4444444444444444,
              "#bd3786"
             ],
             [
              0.5555555555555556,
              "#d8576b"
             ],
             [
              0.6666666666666666,
              "#ed7953"
             ],
             [
              0.7777777777777778,
              "#fb9f3a"
             ],
             [
              0.8888888888888888,
              "#fdca26"
             ],
             [
              1,
              "#f0f921"
             ]
            ],
            "type": "surface"
           }
          ],
          "table": [
           {
            "cells": {
             "fill": {
              "color": "#506784"
             },
             "line": {
              "color": "rgb(17,17,17)"
             }
            },
            "header": {
             "fill": {
              "color": "#2a3f5f"
             },
             "line": {
              "color": "rgb(17,17,17)"
             }
            },
            "type": "table"
           }
          ]
         },
         "layout": {
          "annotationdefaults": {
           "arrowcolor": "#f2f5fa",
           "arrowhead": 0,
           "arrowwidth": 1
          },
          "autotypenumbers": "strict",
          "coloraxis": {
           "colorbar": {
            "outlinewidth": 0,
            "ticks": ""
           }
          },
          "colorscale": {
           "diverging": [
            [
             0,
             "#8e0152"
            ],
            [
             0.1,
             "#c51b7d"
            ],
            [
             0.2,
             "#de77ae"
            ],
            [
             0.3,
             "#f1b6da"
            ],
            [
             0.4,
             "#fde0ef"
            ],
            [
             0.5,
             "#f7f7f7"
            ],
            [
             0.6,
             "#e6f5d0"
            ],
            [
             0.7,
             "#b8e186"
            ],
            [
             0.8,
             "#7fbc41"
            ],
            [
             0.9,
             "#4d9221"
            ],
            [
             1,
             "#276419"
            ]
           ],
           "sequential": [
            [
             0,
             "#0d0887"
            ],
            [
             0.1111111111111111,
             "#46039f"
            ],
            [
             0.2222222222222222,
             "#7201a8"
            ],
            [
             0.3333333333333333,
             "#9c179e"
            ],
            [
             0.4444444444444444,
             "#bd3786"
            ],
            [
             0.5555555555555556,
             "#d8576b"
            ],
            [
             0.6666666666666666,
             "#ed7953"
            ],
            [
             0.7777777777777778,
             "#fb9f3a"
            ],
            [
             0.8888888888888888,
             "#fdca26"
            ],
            [
             1,
             "#f0f921"
            ]
           ],
           "sequentialminus": [
            [
             0,
             "#0d0887"
            ],
            [
             0.1111111111111111,
             "#46039f"
            ],
            [
             0.2222222222222222,
             "#7201a8"
            ],
            [
             0.3333333333333333,
             "#9c179e"
            ],
            [
             0.4444444444444444,
             "#bd3786"
            ],
            [
             0.5555555555555556,
             "#d8576b"
            ],
            [
             0.6666666666666666,
             "#ed7953"
            ],
            [
             0.7777777777777778,
             "#fb9f3a"
            ],
            [
             0.8888888888888888,
             "#fdca26"
            ],
            [
             1,
             "#f0f921"
            ]
           ]
          },
          "colorway": [
           "#636efa",
           "#EF553B",
           "#00cc96",
           "#ab63fa",
           "#FFA15A",
           "#19d3f3",
           "#FF6692",
           "#B6E880",
           "#FF97FF",
           "#FECB52"
          ],
          "font": {
           "color": "#f2f5fa"
          },
          "geo": {
           "bgcolor": "rgb(17,17,17)",
           "lakecolor": "rgb(17,17,17)",
           "landcolor": "rgb(17,17,17)",
           "showlakes": true,
           "showland": true,
           "subunitcolor": "#506784"
          },
          "hoverlabel": {
           "align": "left"
          },
          "hovermode": "closest",
          "mapbox": {
           "style": "dark"
          },
          "paper_bgcolor": "rgb(17,17,17)",
          "plot_bgcolor": "rgb(17,17,17)",
          "polar": {
           "angularaxis": {
            "gridcolor": "#506784",
            "linecolor": "#506784",
            "ticks": ""
           },
           "bgcolor": "rgb(17,17,17)",
           "radialaxis": {
            "gridcolor": "#506784",
            "linecolor": "#506784",
            "ticks": ""
           }
          },
          "scene": {
           "xaxis": {
            "backgroundcolor": "rgb(17,17,17)",
            "gridcolor": "#506784",
            "gridwidth": 2,
            "linecolor": "#506784",
            "showbackground": true,
            "ticks": "",
            "zerolinecolor": "#C8D4E3"
           },
           "yaxis": {
            "backgroundcolor": "rgb(17,17,17)",
            "gridcolor": "#506784",
            "gridwidth": 2,
            "linecolor": "#506784",
            "showbackground": true,
            "ticks": "",
            "zerolinecolor": "#C8D4E3"
           },
           "zaxis": {
            "backgroundcolor": "rgb(17,17,17)",
            "gridcolor": "#506784",
            "gridwidth": 2,
            "linecolor": "#506784",
            "showbackground": true,
            "ticks": "",
            "zerolinecolor": "#C8D4E3"
           }
          },
          "shapedefaults": {
           "line": {
            "color": "#f2f5fa"
           }
          },
          "sliderdefaults": {
           "bgcolor": "#C8D4E3",
           "bordercolor": "rgb(17,17,17)",
           "borderwidth": 1,
           "tickwidth": 0
          },
          "ternary": {
           "aaxis": {
            "gridcolor": "#506784",
            "linecolor": "#506784",
            "ticks": ""
           },
           "baxis": {
            "gridcolor": "#506784",
            "linecolor": "#506784",
            "ticks": ""
           },
           "bgcolor": "rgb(17,17,17)",
           "caxis": {
            "gridcolor": "#506784",
            "linecolor": "#506784",
            "ticks": ""
           }
          },
          "title": {
           "x": 0.05
          },
          "updatemenudefaults": {
           "bgcolor": "#506784",
           "borderwidth": 0
          },
          "xaxis": {
           "automargin": true,
           "gridcolor": "#283442",
           "linecolor": "#506784",
           "ticks": "",
           "title": {
            "standoff": 15
           },
           "zerolinecolor": "#283442",
           "zerolinewidth": 2
          },
          "yaxis": {
           "automargin": true,
           "gridcolor": "#283442",
           "linecolor": "#506784",
           "ticks": "",
           "title": {
            "standoff": 15
           },
           "zerolinecolor": "#283442",
           "zerolinewidth": 2
          }
         }
        },
        "title": {
         "text": "Passenger Count Analysis"
        },
        "xaxis": {
         "anchor": "y",
         "domain": [
          0,
          1
         ]
        },
        "xaxis2": {
         "anchor": "y2",
         "domain": [
          0,
          1
         ]
        },
        "yaxis": {
         "anchor": "x",
         "domain": [
          0.625,
          1
         ]
        },
        "yaxis2": {
         "anchor": "x2",
         "domain": [
          0,
          0.375
         ]
        }
       }
      }
     },
     "metadata": {},
     "output_type": "display_data"
    }
   ],
   "source": [
    "avg_trip_pass=df['trip_duration_min'].groupby(df['passenger_count']).mean().reset_index().round(2)\n",
    "avg_trip_pass.columns=['Number Of Passengers','Avg Trip Duration']\n",
    "\n",
    "pass_count = df['passenger_count'].value_counts().reset_index()\n",
    "pass_count.columns = ['Number Of Passengers', 'Trip Count']\n",
    "\n",
    "fig = make_subplots(rows=2 ,cols= 1 , subplot_titles=( \"Distribution of Trips by Number of Passengers\",\"AVG Trip Duration vs. Passenger Count\"))\n",
    "\n",
    "fig.add_trace(\n",
    "   go.Bar(\n",
    "      x=pass_count['Number Of Passengers'],\n",
    "      y= pass_count['Trip Count'] ,\n",
    "      name = 'Passengers Count',\n",
    "      marker=dict(color=px.colors.sequential.Aggrnyl) ,\n",
    "      \n",
    "   ),\n",
    "   row= 1 , col= 1\n",
    ")\n",
    "fig.add_trace(\n",
    "   go.Bar(\n",
    "            x=avg_trip_pass['Number Of Passengers'] ,\n",
    "            y=avg_trip_pass['Avg Trip Duration'],\n",
    "            name='Avg Trip Duration',\n",
    "            marker=dict(color=px.colors.sequential.Aggrnyl_r),\n",
    "            \n",
    "            \n",
    "   ) ,\n",
    "   row= 2 ,col=1\n",
    ")\n",
    "\n",
    "\n",
    "fig.update_layout(\n",
    "   height=500,\n",
    "   title_text=\"Passenger Count Analysis\",\n",
    "   template='plotly_dark',\n",
    "   barcornerradius=10,\n",
    "   \n",
    "   \n",
    ")\n",
    "\n",
    "fig.show()"
   ]
  },
  {
   "cell_type": "markdown",
   "metadata": {},
   "source": [
    "\n",
    "### **`Passenger Count Analysis`**\n",
    "\n",
    "#### **. Distribution of Trips by Number of Passengers**\n",
    "\n",
    "- **Key Observations:**\n",
    "  - The majority of trips involve **0 or 1 passenger**, indicating that single-passenger rides are most common.\n",
    "  - Trips with **8 passengers** are extremely rare, accounting for only a negligible portion of the total trips.\n",
    "\n"
   ]
  },
  {
   "cell_type": "code",
   "execution_count": 18,
   "metadata": {},
   "outputs": [
    {
     "data": {
      "application/vnd.plotly.v1+json": {
       "config": {
        "plotlyServerURL": "https://plot.ly"
       },
       "data": [
        {
         "domain": {
          "x": [
           0,
           0.2888888888888889
          ],
          "y": [
           0,
           1
          ]
         },
         "labels": [
          "weekDay",
          "weekend"
         ],
         "marker": {
          "colors": [
           "rgb(0,68,27)",
           "rgb(0,109,44)",
           "rgb(35,139,69)",
           "rgb(65,171,93)",
           "rgb(116,196,118)",
           "rgb(161,217,155)",
           "rgb(199,233,192)",
           "rgb(229,245,224)",
           "rgb(247,252,245)"
          ]
         },
         "type": "pie",
         "values": {
          "bdata": "NmYNANFbBQA=",
          "dtype": "i4"
         }
        },
        {
         "domain": {
          "x": [
           0.35555555555555557,
           0.6444444444444445
          ],
          "y": [
           0,
           1
          ]
         },
         "labels": {
          "bdata": "AAECAwQFBgc=",
          "dtype": "i1"
         },
         "name": "Weekend",
         "type": "pie",
         "values": {
          "bdata": "EwAAANmbAwCH4gAA3kIAAEQhAAAwSwAACi4AAAIAAAA=",
          "dtype": "i4"
         }
        },
        {
         "domain": {
          "x": [
           0.7111111111111111,
           1
          ],
          "y": [
           0,
           1
          ]
         },
         "labels": {
          "bdata": "AAECAwQFBgcI",
          "dtype": "i1"
         },
         "marker": {
          "colors": [
           "rgb(0,68,27)",
           "rgb(0,109,44)",
           "rgb(35,139,69)",
           "rgb(65,171,93)",
           "rgb(116,196,118)",
           "rgb(161,217,155)",
           "rgb(199,233,192)",
           "rgb(229,245,224)",
           "rgb(247,252,245)"
          ]
         },
         "name": "WeekDay",
         "type": "pie",
         "values": {
          "bdata": "IAAAAEmvCQAq0QEASIIAADg8AADVtQAATHEAAAEAAAABAAAA",
          "dtype": "i4"
         }
        }
       ],
       "layout": {
        "annotations": [
         {
          "font": {
           "size": 16
          },
          "showarrow": false,
          "text": "Trip Distribution ",
          "x": 0.14444444444444446,
          "xanchor": "center",
          "xref": "paper",
          "y": 1,
          "yanchor": "bottom",
          "yref": "paper"
         },
         {
          "font": {
           "size": 16
          },
          "showarrow": false,
          "text": " Weekend Status",
          "x": 0.5,
          "xanchor": "center",
          "xref": "paper",
          "y": 1,
          "yanchor": "bottom",
          "yref": "paper"
         },
         {
          "font": {
           "size": 16
          },
          "showarrow": false,
          "text": " WeekDay Status",
          "x": 0.8555555555555556,
          "xanchor": "center",
          "xref": "paper",
          "y": 1,
          "yanchor": "bottom",
          "yref": "paper"
         }
        ],
        "template": {
         "data": {
          "bar": [
           {
            "error_x": {
             "color": "#f2f5fa"
            },
            "error_y": {
             "color": "#f2f5fa"
            },
            "marker": {
             "line": {
              "color": "rgb(17,17,17)",
              "width": 0.5
             },
             "pattern": {
              "fillmode": "overlay",
              "size": 10,
              "solidity": 0.2
             }
            },
            "type": "bar"
           }
          ],
          "barpolar": [
           {
            "marker": {
             "line": {
              "color": "rgb(17,17,17)",
              "width": 0.5
             },
             "pattern": {
              "fillmode": "overlay",
              "size": 10,
              "solidity": 0.2
             }
            },
            "type": "barpolar"
           }
          ],
          "carpet": [
           {
            "aaxis": {
             "endlinecolor": "#A2B1C6",
             "gridcolor": "#506784",
             "linecolor": "#506784",
             "minorgridcolor": "#506784",
             "startlinecolor": "#A2B1C6"
            },
            "baxis": {
             "endlinecolor": "#A2B1C6",
             "gridcolor": "#506784",
             "linecolor": "#506784",
             "minorgridcolor": "#506784",
             "startlinecolor": "#A2B1C6"
            },
            "type": "carpet"
           }
          ],
          "choropleth": [
           {
            "colorbar": {
             "outlinewidth": 0,
             "ticks": ""
            },
            "type": "choropleth"
           }
          ],
          "contour": [
           {
            "colorbar": {
             "outlinewidth": 0,
             "ticks": ""
            },
            "colorscale": [
             [
              0,
              "#0d0887"
             ],
             [
              0.1111111111111111,
              "#46039f"
             ],
             [
              0.2222222222222222,
              "#7201a8"
             ],
             [
              0.3333333333333333,
              "#9c179e"
             ],
             [
              0.4444444444444444,
              "#bd3786"
             ],
             [
              0.5555555555555556,
              "#d8576b"
             ],
             [
              0.6666666666666666,
              "#ed7953"
             ],
             [
              0.7777777777777778,
              "#fb9f3a"
             ],
             [
              0.8888888888888888,
              "#fdca26"
             ],
             [
              1,
              "#f0f921"
             ]
            ],
            "type": "contour"
           }
          ],
          "contourcarpet": [
           {
            "colorbar": {
             "outlinewidth": 0,
             "ticks": ""
            },
            "type": "contourcarpet"
           }
          ],
          "heatmap": [
           {
            "colorbar": {
             "outlinewidth": 0,
             "ticks": ""
            },
            "colorscale": [
             [
              0,
              "#0d0887"
             ],
             [
              0.1111111111111111,
              "#46039f"
             ],
             [
              0.2222222222222222,
              "#7201a8"
             ],
             [
              0.3333333333333333,
              "#9c179e"
             ],
             [
              0.4444444444444444,
              "#bd3786"
             ],
             [
              0.5555555555555556,
              "#d8576b"
             ],
             [
              0.6666666666666666,
              "#ed7953"
             ],
             [
              0.7777777777777778,
              "#fb9f3a"
             ],
             [
              0.8888888888888888,
              "#fdca26"
             ],
             [
              1,
              "#f0f921"
             ]
            ],
            "type": "heatmap"
           }
          ],
          "histogram": [
           {
            "marker": {
             "pattern": {
              "fillmode": "overlay",
              "size": 10,
              "solidity": 0.2
             }
            },
            "type": "histogram"
           }
          ],
          "histogram2d": [
           {
            "colorbar": {
             "outlinewidth": 0,
             "ticks": ""
            },
            "colorscale": [
             [
              0,
              "#0d0887"
             ],
             [
              0.1111111111111111,
              "#46039f"
             ],
             [
              0.2222222222222222,
              "#7201a8"
             ],
             [
              0.3333333333333333,
              "#9c179e"
             ],
             [
              0.4444444444444444,
              "#bd3786"
             ],
             [
              0.5555555555555556,
              "#d8576b"
             ],
             [
              0.6666666666666666,
              "#ed7953"
             ],
             [
              0.7777777777777778,
              "#fb9f3a"
             ],
             [
              0.8888888888888888,
              "#fdca26"
             ],
             [
              1,
              "#f0f921"
             ]
            ],
            "type": "histogram2d"
           }
          ],
          "histogram2dcontour": [
           {
            "colorbar": {
             "outlinewidth": 0,
             "ticks": ""
            },
            "colorscale": [
             [
              0,
              "#0d0887"
             ],
             [
              0.1111111111111111,
              "#46039f"
             ],
             [
              0.2222222222222222,
              "#7201a8"
             ],
             [
              0.3333333333333333,
              "#9c179e"
             ],
             [
              0.4444444444444444,
              "#bd3786"
             ],
             [
              0.5555555555555556,
              "#d8576b"
             ],
             [
              0.6666666666666666,
              "#ed7953"
             ],
             [
              0.7777777777777778,
              "#fb9f3a"
             ],
             [
              0.8888888888888888,
              "#fdca26"
             ],
             [
              1,
              "#f0f921"
             ]
            ],
            "type": "histogram2dcontour"
           }
          ],
          "mesh3d": [
           {
            "colorbar": {
             "outlinewidth": 0,
             "ticks": ""
            },
            "type": "mesh3d"
           }
          ],
          "parcoords": [
           {
            "line": {
             "colorbar": {
              "outlinewidth": 0,
              "ticks": ""
             }
            },
            "type": "parcoords"
           }
          ],
          "pie": [
           {
            "automargin": true,
            "type": "pie"
           }
          ],
          "scatter": [
           {
            "marker": {
             "line": {
              "color": "#283442"
             }
            },
            "type": "scatter"
           }
          ],
          "scatter3d": [
           {
            "line": {
             "colorbar": {
              "outlinewidth": 0,
              "ticks": ""
             }
            },
            "marker": {
             "colorbar": {
              "outlinewidth": 0,
              "ticks": ""
             }
            },
            "type": "scatter3d"
           }
          ],
          "scattercarpet": [
           {
            "marker": {
             "colorbar": {
              "outlinewidth": 0,
              "ticks": ""
             }
            },
            "type": "scattercarpet"
           }
          ],
          "scattergeo": [
           {
            "marker": {
             "colorbar": {
              "outlinewidth": 0,
              "ticks": ""
             }
            },
            "type": "scattergeo"
           }
          ],
          "scattergl": [
           {
            "marker": {
             "line": {
              "color": "#283442"
             }
            },
            "type": "scattergl"
           }
          ],
          "scattermap": [
           {
            "marker": {
             "colorbar": {
              "outlinewidth": 0,
              "ticks": ""
             }
            },
            "type": "scattermap"
           }
          ],
          "scattermapbox": [
           {
            "marker": {
             "colorbar": {
              "outlinewidth": 0,
              "ticks": ""
             }
            },
            "type": "scattermapbox"
           }
          ],
          "scatterpolar": [
           {
            "marker": {
             "colorbar": {
              "outlinewidth": 0,
              "ticks": ""
             }
            },
            "type": "scatterpolar"
           }
          ],
          "scatterpolargl": [
           {
            "marker": {
             "colorbar": {
              "outlinewidth": 0,
              "ticks": ""
             }
            },
            "type": "scatterpolargl"
           }
          ],
          "scatterternary": [
           {
            "marker": {
             "colorbar": {
              "outlinewidth": 0,
              "ticks": ""
             }
            },
            "type": "scatterternary"
           }
          ],
          "surface": [
           {
            "colorbar": {
             "outlinewidth": 0,
             "ticks": ""
            },
            "colorscale": [
             [
              0,
              "#0d0887"
             ],
             [
              0.1111111111111111,
              "#46039f"
             ],
             [
              0.2222222222222222,
              "#7201a8"
             ],
             [
              0.3333333333333333,
              "#9c179e"
             ],
             [
              0.4444444444444444,
              "#bd3786"
             ],
             [
              0.5555555555555556,
              "#d8576b"
             ],
             [
              0.6666666666666666,
              "#ed7953"
             ],
             [
              0.7777777777777778,
              "#fb9f3a"
             ],
             [
              0.8888888888888888,
              "#fdca26"
             ],
             [
              1,
              "#f0f921"
             ]
            ],
            "type": "surface"
           }
          ],
          "table": [
           {
            "cells": {
             "fill": {
              "color": "#506784"
             },
             "line": {
              "color": "rgb(17,17,17)"
             }
            },
            "header": {
             "fill": {
              "color": "#2a3f5f"
             },
             "line": {
              "color": "rgb(17,17,17)"
             }
            },
            "type": "table"
           }
          ]
         },
         "layout": {
          "annotationdefaults": {
           "arrowcolor": "#f2f5fa",
           "arrowhead": 0,
           "arrowwidth": 1
          },
          "autotypenumbers": "strict",
          "coloraxis": {
           "colorbar": {
            "outlinewidth": 0,
            "ticks": ""
           }
          },
          "colorscale": {
           "diverging": [
            [
             0,
             "#8e0152"
            ],
            [
             0.1,
             "#c51b7d"
            ],
            [
             0.2,
             "#de77ae"
            ],
            [
             0.3,
             "#f1b6da"
            ],
            [
             0.4,
             "#fde0ef"
            ],
            [
             0.5,
             "#f7f7f7"
            ],
            [
             0.6,
             "#e6f5d0"
            ],
            [
             0.7,
             "#b8e186"
            ],
            [
             0.8,
             "#7fbc41"
            ],
            [
             0.9,
             "#4d9221"
            ],
            [
             1,
             "#276419"
            ]
           ],
           "sequential": [
            [
             0,
             "#0d0887"
            ],
            [
             0.1111111111111111,
             "#46039f"
            ],
            [
             0.2222222222222222,
             "#7201a8"
            ],
            [
             0.3333333333333333,
             "#9c179e"
            ],
            [
             0.4444444444444444,
             "#bd3786"
            ],
            [
             0.5555555555555556,
             "#d8576b"
            ],
            [
             0.6666666666666666,
             "#ed7953"
            ],
            [
             0.7777777777777778,
             "#fb9f3a"
            ],
            [
             0.8888888888888888,
             "#fdca26"
            ],
            [
             1,
             "#f0f921"
            ]
           ],
           "sequentialminus": [
            [
             0,
             "#0d0887"
            ],
            [
             0.1111111111111111,
             "#46039f"
            ],
            [
             0.2222222222222222,
             "#7201a8"
            ],
            [
             0.3333333333333333,
             "#9c179e"
            ],
            [
             0.4444444444444444,
             "#bd3786"
            ],
            [
             0.5555555555555556,
             "#d8576b"
            ],
            [
             0.6666666666666666,
             "#ed7953"
            ],
            [
             0.7777777777777778,
             "#fb9f3a"
            ],
            [
             0.8888888888888888,
             "#fdca26"
            ],
            [
             1,
             "#f0f921"
            ]
           ]
          },
          "colorway": [
           "#636efa",
           "#EF553B",
           "#00cc96",
           "#ab63fa",
           "#FFA15A",
           "#19d3f3",
           "#FF6692",
           "#B6E880",
           "#FF97FF",
           "#FECB52"
          ],
          "font": {
           "color": "#f2f5fa"
          },
          "geo": {
           "bgcolor": "rgb(17,17,17)",
           "lakecolor": "rgb(17,17,17)",
           "landcolor": "rgb(17,17,17)",
           "showlakes": true,
           "showland": true,
           "subunitcolor": "#506784"
          },
          "hoverlabel": {
           "align": "left"
          },
          "hovermode": "closest",
          "mapbox": {
           "style": "dark"
          },
          "paper_bgcolor": "rgb(17,17,17)",
          "plot_bgcolor": "rgb(17,17,17)",
          "polar": {
           "angularaxis": {
            "gridcolor": "#506784",
            "linecolor": "#506784",
            "ticks": ""
           },
           "bgcolor": "rgb(17,17,17)",
           "radialaxis": {
            "gridcolor": "#506784",
            "linecolor": "#506784",
            "ticks": ""
           }
          },
          "scene": {
           "xaxis": {
            "backgroundcolor": "rgb(17,17,17)",
            "gridcolor": "#506784",
            "gridwidth": 2,
            "linecolor": "#506784",
            "showbackground": true,
            "ticks": "",
            "zerolinecolor": "#C8D4E3"
           },
           "yaxis": {
            "backgroundcolor": "rgb(17,17,17)",
            "gridcolor": "#506784",
            "gridwidth": 2,
            "linecolor": "#506784",
            "showbackground": true,
            "ticks": "",
            "zerolinecolor": "#C8D4E3"
           },
           "zaxis": {
            "backgroundcolor": "rgb(17,17,17)",
            "gridcolor": "#506784",
            "gridwidth": 2,
            "linecolor": "#506784",
            "showbackground": true,
            "ticks": "",
            "zerolinecolor": "#C8D4E3"
           }
          },
          "shapedefaults": {
           "line": {
            "color": "#f2f5fa"
           }
          },
          "sliderdefaults": {
           "bgcolor": "#C8D4E3",
           "bordercolor": "rgb(17,17,17)",
           "borderwidth": 1,
           "tickwidth": 0
          },
          "ternary": {
           "aaxis": {
            "gridcolor": "#506784",
            "linecolor": "#506784",
            "ticks": ""
           },
           "baxis": {
            "gridcolor": "#506784",
            "linecolor": "#506784",
            "ticks": ""
           },
           "bgcolor": "rgb(17,17,17)",
           "caxis": {
            "gridcolor": "#506784",
            "linecolor": "#506784",
            "ticks": ""
           }
          },
          "title": {
           "x": 0.05
          },
          "updatemenudefaults": {
           "bgcolor": "#506784",
           "borderwidth": 0
          },
          "xaxis": {
           "automargin": true,
           "gridcolor": "#283442",
           "linecolor": "#506784",
           "ticks": "",
           "title": {
            "standoff": 15
           },
           "zerolinecolor": "#283442",
           "zerolinewidth": 2
          },
          "yaxis": {
           "automargin": true,
           "gridcolor": "#283442",
           "linecolor": "#506784",
           "ticks": "",
           "title": {
            "standoff": 15
           },
           "zerolinecolor": "#283442",
           "zerolinewidth": 2
          }
         }
        },
        "title": {
         "text": "Passenger Count Distribution: Weekend vs WeekDay"
        }
       }
      }
     },
     "metadata": {},
     "output_type": "display_data"
    }
   ],
   "source": [
    "pass_weekend = df.groupby(['is_weekend', 'passenger_count']).size().reset_index(name='Trip Count')\n",
    "week_trip =df['is_weekend'].value_counts().reset_index(name='trip count')\n",
    "\n",
    "fig = make_subplots(\n",
    "                  rows=1,cols=3 ,\n",
    "                  subplot_titles= ('Trip Distribution ',' Weekend Status' ,' WeekDay Status' ) ,\n",
    "                  specs=[[{'type':'domain'}, {'type':'domain'},{'type':'domain'}]]\n",
    "                  )\n",
    "\n",
    "\n",
    "fig.add_trace(\n",
    "   go.Pie(\n",
    "      labels=week_trip['is_weekend'] ,\n",
    "      values=week_trip['trip count'],\n",
    "      marker=dict(colors=px.colors.sequential.Greens_r)\n",
    "   ) ,\n",
    "   row= 1 , col= 1 \n",
    ")\n",
    "fig.add_trace(\n",
    "   go.Pie(\n",
    "      labels=pass_weekend[pass_weekend['is_weekend'] == 'weekend'] ['passenger_count'] ,\n",
    "      values=pass_weekend[pass_weekend['is_weekend'] == 'weekend'] ['Trip Count'] ,\n",
    "      name= 'Weekend' ,\n",
    "      \n",
    "   ) ,\n",
    "   row= 1 , col= 2 \n",
    ")\n",
    "\n",
    "fig.add_trace(\n",
    "   go.Pie(\n",
    "      labels=pass_weekend[pass_weekend['is_weekend'] == 'weekDay'] ['passenger_count'] ,\n",
    "      values=pass_weekend[pass_weekend['is_weekend'] == 'weekDay'] ['Trip Count'] ,\n",
    "      name= 'WeekDay',\n",
    "      marker=dict(colors=px.colors.sequential.Greens_r)\n",
    "      \n",
    "   ) ,\n",
    "   row= 1 , col= 3 \n",
    ")\n",
    "\n",
    "fig.update_layout(\n",
    "   template='plotly_dark',\n",
    "   title = \"Passenger Count Distribution: Weekend vs WeekDay\"\n",
    "   \n",
    ")"
   ]
  },
  {
   "cell_type": "markdown",
   "metadata": {},
   "source": [
    "### **Passenger Count Distribution: Weekend vs. Weekday**\n",
    "\n",
    "#### **1. `Trip Distribution`**\n",
    "The first pie chart shows the overall distribution of trips between weekdays and weekends.\n",
    "\n",
    "- **Key Observations:**\n",
    "  - **Weekdays:** Account for **71.4%** of all trips.\n",
    "  - **Weekends:** Account for **28.6%** of all trips.\n",
    "  - **Insight:** Weekdays have significantly more trips compared to weekends, indicating higher demand during the workweek.\n",
    "\n",
    "---\n",
    "\n",
    "#### **2. `Weekend Status`**\n",
    "The second pie chart breaks down the passenger count distribution specifically for trips that occurred on weekends.\n",
    "\n",
    "- **Key Observations:**\n",
    "  - The majority of weekend trips involve **1 passengers**, accounting for **67.3%**.\n",
    "  - Trips with **2 passenger** make up **16.5%** of weekend trips.\n",
    "  - Trips with **3 or more passengers** are relatively rare, collectively representing less than **10%** of weekend trips.\n",
    "  - **Insight:** On weekends, a significant portion of trips is single-passenger rides.\n",
    "\n",
    "---\n",
    "\n",
    "#### **3. `WeekDay Status`**\n",
    "The third pie chart shows the passenger count distribution for trips that occurred on weekdays.\n",
    "\n",
    "- **Key Observations:**\n",
    "  - The majority of weekday trips involve **1 passengers**, accounting for **72.3%**.\n",
    "  - Trips with **2 passenger** make up **13.6%** of weekday trips.\n",
    "  - Trips with **3 or more passengers** are relatively rare, collectively representing less than **10%** of weekday trips.\n",
    "  - **Insight:** Similar to weekends, weekdays also show a high prevalence single-passenger rides.\n",
    "\n",
    "---\n",
    "\n",
    "### **Summary**\n",
    "- **Overall Trip Distribution:** Weekdays account for **71.4%** of all trips, while weekends account for **28.6%**.\n",
    "- **Weekend Trips:** Most weekend trips involve **1 passengers** (67.3%), followed by trips with **2 passenger** (16.5%).\n",
    "- **Weekday Trips:** Most weekday trips also involve **1 passengers** (72.3%), followed by trips with **2 passenger** (13.6%).\n",
    "\n",
    "### **Key Insights**\n",
    "1. **Higher Demand on Weekdays:** Weekdays have significantly more trips compared to weekends, reflecting higher taxi usage during the workweek.\n",
    "2. **Dominance of Single-Passenger Rides:** Both weekdays and weekends show a strong preference for single-passenger rides , indicating that taxis are primarily used for individual travel.\n",
    "3. **Rare High-Passenger Trips:** Trips involving 3 or more passengers are relatively uncommon, suggesting that shared rides or group transportation via taxis are not frequent.\n"
   ]
  },
  {
   "cell_type": "code",
   "execution_count": 19,
   "metadata": {},
   "outputs": [],
   "source": [
    "# Prepare Data For Better EDA \n",
    "trip_dist_timeday = df['time_of_day'].value_counts().reset_index(name='Trip Count')\n",
    "trip_dist_month = df['months'].value_counts().reset_index(name='Trip Count')\n",
    "trip_dist_weekday = df['weekDay'].value_counts().reset_index(name='Trip Count')\n",
    "trip_dist_hours = df['hours'].value_counts().reset_index(name='Trip Count')"
   ]
  },
  {
   "cell_type": "code",
   "execution_count": 20,
   "metadata": {},
   "outputs": [
    {
     "data": {
      "application/vnd.plotly.v1+json": {
       "config": {
        "plotlyServerURL": "https://plot.ly"
       },
       "data": [
        {
         "mode": "markers+lines",
         "name": "Times Of Day",
         "type": "scatter",
         "x": [
          "Morning",
          "Afternoon",
          "Evening",
          "Night",
          "Dawn",
          "Noon"
         ],
         "xaxis": "x",
         "y": {
          "bdata": "BJkEAFWwAwBgaAMA9AMDAKU0AgC11wEA",
          "dtype": "i4"
         },
         "yaxis": "y"
        },
        {
         "mode": "markers+lines",
         "name": "Months",
         "type": "scatter",
         "x": [
          "March",
          "April",
          "May",
          "February",
          "June",
          "January"
         ],
         "xaxis": "x2",
         "y": {
          "bdata": "t0sDAKk7AwBsMgMATxEDAN4CAwAO9AIA",
          "dtype": "i4"
         },
         "yaxis": "y2"
        },
        {
         "mode": "markers+lines",
         "name": "WeekDay",
         "type": "scatter",
         "x": [
          "Friday",
          "Saturday",
          "Thursday",
          "Wednesday",
          "Tuesday",
          "Sunday",
          "Monday"
         ],
         "xaxis": "x3",
         "y": {
          "bdata": "yd4CAKjXAgBzzwIA9rMCACWbAgAphAIA32gCAA==",
          "dtype": "i4"
         },
         "yaxis": "y3"
        },
        {
         "mode": "markers",
         "name": "Hours of Day",
         "type": "scatter",
         "x": {
          "bdata": "EgAAABMAAAAVAAAAFAAAABYAAAARAAAADgAAAAwAAAAPAAAADQAAABcAAAALAAAACQAAAAgAAAAKAAAAEAAAAAcAAAAAAAAAAQAAAAYAAAACAAAAAwAAAAQAAAAFAAAA",
          "dtype": "i4"
         },
         "xaxis": "x4",
         "y": {
          "bdata": "ZCoBAPIoAQBlFQEAChUBAGsIAQDD+wAAcPQAAE/sAAAm7AAAZusAACTmAACr4QAAOt8AAN7cAABe1wAA/NMAAG22AADargAATn8AAHZtAAACXAAAAEUAABg0AABjMQAA",
          "dtype": "i4"
         },
         "yaxis": "y4"
        }
       ],
       "layout": {
        "annotations": [
         {
          "font": {
           "size": 16
          },
          "showarrow": false,
          "text": "Different Times Of Day vs Numbers Of Trips",
          "x": 0.225,
          "xanchor": "center",
          "xref": "paper",
          "y": 1,
          "yanchor": "bottom",
          "yref": "paper"
         },
         {
          "font": {
           "size": 16
          },
          "showarrow": false,
          "text": "Months vs Numbers Of Trips",
          "x": 0.775,
          "xanchor": "center",
          "xref": "paper",
          "y": 1,
          "yanchor": "bottom",
          "yref": "paper"
         },
         {
          "font": {
           "size": 16
          },
          "showarrow": false,
          "text": "WeekDay vs Numbers Of Trips",
          "x": 0.225,
          "xanchor": "center",
          "xref": "paper",
          "y": 0.375,
          "yanchor": "bottom",
          "yref": "paper"
         },
         {
          "font": {
           "size": 16
          },
          "showarrow": false,
          "text": "Hours of Day vs Numbers Of Trips",
          "x": 0.775,
          "xanchor": "center",
          "xref": "paper",
          "y": 0.375,
          "yanchor": "bottom",
          "yref": "paper"
         }
        ],
        "height": 800,
        "showlegend": true,
        "template": {
         "data": {
          "bar": [
           {
            "error_x": {
             "color": "#f2f5fa"
            },
            "error_y": {
             "color": "#f2f5fa"
            },
            "marker": {
             "line": {
              "color": "rgb(17,17,17)",
              "width": 0.5
             },
             "pattern": {
              "fillmode": "overlay",
              "size": 10,
              "solidity": 0.2
             }
            },
            "type": "bar"
           }
          ],
          "barpolar": [
           {
            "marker": {
             "line": {
              "color": "rgb(17,17,17)",
              "width": 0.5
             },
             "pattern": {
              "fillmode": "overlay",
              "size": 10,
              "solidity": 0.2
             }
            },
            "type": "barpolar"
           }
          ],
          "carpet": [
           {
            "aaxis": {
             "endlinecolor": "#A2B1C6",
             "gridcolor": "#506784",
             "linecolor": "#506784",
             "minorgridcolor": "#506784",
             "startlinecolor": "#A2B1C6"
            },
            "baxis": {
             "endlinecolor": "#A2B1C6",
             "gridcolor": "#506784",
             "linecolor": "#506784",
             "minorgridcolor": "#506784",
             "startlinecolor": "#A2B1C6"
            },
            "type": "carpet"
           }
          ],
          "choropleth": [
           {
            "colorbar": {
             "outlinewidth": 0,
             "ticks": ""
            },
            "type": "choropleth"
           }
          ],
          "contour": [
           {
            "colorbar": {
             "outlinewidth": 0,
             "ticks": ""
            },
            "colorscale": [
             [
              0,
              "#0d0887"
             ],
             [
              0.1111111111111111,
              "#46039f"
             ],
             [
              0.2222222222222222,
              "#7201a8"
             ],
             [
              0.3333333333333333,
              "#9c179e"
             ],
             [
              0.4444444444444444,
              "#bd3786"
             ],
             [
              0.5555555555555556,
              "#d8576b"
             ],
             [
              0.6666666666666666,
              "#ed7953"
             ],
             [
              0.7777777777777778,
              "#fb9f3a"
             ],
             [
              0.8888888888888888,
              "#fdca26"
             ],
             [
              1,
              "#f0f921"
             ]
            ],
            "type": "contour"
           }
          ],
          "contourcarpet": [
           {
            "colorbar": {
             "outlinewidth": 0,
             "ticks": ""
            },
            "type": "contourcarpet"
           }
          ],
          "heatmap": [
           {
            "colorbar": {
             "outlinewidth": 0,
             "ticks": ""
            },
            "colorscale": [
             [
              0,
              "#0d0887"
             ],
             [
              0.1111111111111111,
              "#46039f"
             ],
             [
              0.2222222222222222,
              "#7201a8"
             ],
             [
              0.3333333333333333,
              "#9c179e"
             ],
             [
              0.4444444444444444,
              "#bd3786"
             ],
             [
              0.5555555555555556,
              "#d8576b"
             ],
             [
              0.6666666666666666,
              "#ed7953"
             ],
             [
              0.7777777777777778,
              "#fb9f3a"
             ],
             [
              0.8888888888888888,
              "#fdca26"
             ],
             [
              1,
              "#f0f921"
             ]
            ],
            "type": "heatmap"
           }
          ],
          "histogram": [
           {
            "marker": {
             "pattern": {
              "fillmode": "overlay",
              "size": 10,
              "solidity": 0.2
             }
            },
            "type": "histogram"
           }
          ],
          "histogram2d": [
           {
            "colorbar": {
             "outlinewidth": 0,
             "ticks": ""
            },
            "colorscale": [
             [
              0,
              "#0d0887"
             ],
             [
              0.1111111111111111,
              "#46039f"
             ],
             [
              0.2222222222222222,
              "#7201a8"
             ],
             [
              0.3333333333333333,
              "#9c179e"
             ],
             [
              0.4444444444444444,
              "#bd3786"
             ],
             [
              0.5555555555555556,
              "#d8576b"
             ],
             [
              0.6666666666666666,
              "#ed7953"
             ],
             [
              0.7777777777777778,
              "#fb9f3a"
             ],
             [
              0.8888888888888888,
              "#fdca26"
             ],
             [
              1,
              "#f0f921"
             ]
            ],
            "type": "histogram2d"
           }
          ],
          "histogram2dcontour": [
           {
            "colorbar": {
             "outlinewidth": 0,
             "ticks": ""
            },
            "colorscale": [
             [
              0,
              "#0d0887"
             ],
             [
              0.1111111111111111,
              "#46039f"
             ],
             [
              0.2222222222222222,
              "#7201a8"
             ],
             [
              0.3333333333333333,
              "#9c179e"
             ],
             [
              0.4444444444444444,
              "#bd3786"
             ],
             [
              0.5555555555555556,
              "#d8576b"
             ],
             [
              0.6666666666666666,
              "#ed7953"
             ],
             [
              0.7777777777777778,
              "#fb9f3a"
             ],
             [
              0.8888888888888888,
              "#fdca26"
             ],
             [
              1,
              "#f0f921"
             ]
            ],
            "type": "histogram2dcontour"
           }
          ],
          "mesh3d": [
           {
            "colorbar": {
             "outlinewidth": 0,
             "ticks": ""
            },
            "type": "mesh3d"
           }
          ],
          "parcoords": [
           {
            "line": {
             "colorbar": {
              "outlinewidth": 0,
              "ticks": ""
             }
            },
            "type": "parcoords"
           }
          ],
          "pie": [
           {
            "automargin": true,
            "type": "pie"
           }
          ],
          "scatter": [
           {
            "marker": {
             "line": {
              "color": "#283442"
             }
            },
            "type": "scatter"
           }
          ],
          "scatter3d": [
           {
            "line": {
             "colorbar": {
              "outlinewidth": 0,
              "ticks": ""
             }
            },
            "marker": {
             "colorbar": {
              "outlinewidth": 0,
              "ticks": ""
             }
            },
            "type": "scatter3d"
           }
          ],
          "scattercarpet": [
           {
            "marker": {
             "colorbar": {
              "outlinewidth": 0,
              "ticks": ""
             }
            },
            "type": "scattercarpet"
           }
          ],
          "scattergeo": [
           {
            "marker": {
             "colorbar": {
              "outlinewidth": 0,
              "ticks": ""
             }
            },
            "type": "scattergeo"
           }
          ],
          "scattergl": [
           {
            "marker": {
             "line": {
              "color": "#283442"
             }
            },
            "type": "scattergl"
           }
          ],
          "scattermap": [
           {
            "marker": {
             "colorbar": {
              "outlinewidth": 0,
              "ticks": ""
             }
            },
            "type": "scattermap"
           }
          ],
          "scattermapbox": [
           {
            "marker": {
             "colorbar": {
              "outlinewidth": 0,
              "ticks": ""
             }
            },
            "type": "scattermapbox"
           }
          ],
          "scatterpolar": [
           {
            "marker": {
             "colorbar": {
              "outlinewidth": 0,
              "ticks": ""
             }
            },
            "type": "scatterpolar"
           }
          ],
          "scatterpolargl": [
           {
            "marker": {
             "colorbar": {
              "outlinewidth": 0,
              "ticks": ""
             }
            },
            "type": "scatterpolargl"
           }
          ],
          "scatterternary": [
           {
            "marker": {
             "colorbar": {
              "outlinewidth": 0,
              "ticks": ""
             }
            },
            "type": "scatterternary"
           }
          ],
          "surface": [
           {
            "colorbar": {
             "outlinewidth": 0,
             "ticks": ""
            },
            "colorscale": [
             [
              0,
              "#0d0887"
             ],
             [
              0.1111111111111111,
              "#46039f"
             ],
             [
              0.2222222222222222,
              "#7201a8"
             ],
             [
              0.3333333333333333,
              "#9c179e"
             ],
             [
              0.4444444444444444,
              "#bd3786"
             ],
             [
              0.5555555555555556,
              "#d8576b"
             ],
             [
              0.6666666666666666,
              "#ed7953"
             ],
             [
              0.7777777777777778,
              "#fb9f3a"
             ],
             [
              0.8888888888888888,
              "#fdca26"
             ],
             [
              1,
              "#f0f921"
             ]
            ],
            "type": "surface"
           }
          ],
          "table": [
           {
            "cells": {
             "fill": {
              "color": "#506784"
             },
             "line": {
              "color": "rgb(17,17,17)"
             }
            },
            "header": {
             "fill": {
              "color": "#2a3f5f"
             },
             "line": {
              "color": "rgb(17,17,17)"
             }
            },
            "type": "table"
           }
          ]
         },
         "layout": {
          "annotationdefaults": {
           "arrowcolor": "#f2f5fa",
           "arrowhead": 0,
           "arrowwidth": 1
          },
          "autotypenumbers": "strict",
          "coloraxis": {
           "colorbar": {
            "outlinewidth": 0,
            "ticks": ""
           }
          },
          "colorscale": {
           "diverging": [
            [
             0,
             "#8e0152"
            ],
            [
             0.1,
             "#c51b7d"
            ],
            [
             0.2,
             "#de77ae"
            ],
            [
             0.3,
             "#f1b6da"
            ],
            [
             0.4,
             "#fde0ef"
            ],
            [
             0.5,
             "#f7f7f7"
            ],
            [
             0.6,
             "#e6f5d0"
            ],
            [
             0.7,
             "#b8e186"
            ],
            [
             0.8,
             "#7fbc41"
            ],
            [
             0.9,
             "#4d9221"
            ],
            [
             1,
             "#276419"
            ]
           ],
           "sequential": [
            [
             0,
             "#0d0887"
            ],
            [
             0.1111111111111111,
             "#46039f"
            ],
            [
             0.2222222222222222,
             "#7201a8"
            ],
            [
             0.3333333333333333,
             "#9c179e"
            ],
            [
             0.4444444444444444,
             "#bd3786"
            ],
            [
             0.5555555555555556,
             "#d8576b"
            ],
            [
             0.6666666666666666,
             "#ed7953"
            ],
            [
             0.7777777777777778,
             "#fb9f3a"
            ],
            [
             0.8888888888888888,
             "#fdca26"
            ],
            [
             1,
             "#f0f921"
            ]
           ],
           "sequentialminus": [
            [
             0,
             "#0d0887"
            ],
            [
             0.1111111111111111,
             "#46039f"
            ],
            [
             0.2222222222222222,
             "#7201a8"
            ],
            [
             0.3333333333333333,
             "#9c179e"
            ],
            [
             0.4444444444444444,
             "#bd3786"
            ],
            [
             0.5555555555555556,
             "#d8576b"
            ],
            [
             0.6666666666666666,
             "#ed7953"
            ],
            [
             0.7777777777777778,
             "#fb9f3a"
            ],
            [
             0.8888888888888888,
             "#fdca26"
            ],
            [
             1,
             "#f0f921"
            ]
           ]
          },
          "colorway": [
           "#636efa",
           "#EF553B",
           "#00cc96",
           "#ab63fa",
           "#FFA15A",
           "#19d3f3",
           "#FF6692",
           "#B6E880",
           "#FF97FF",
           "#FECB52"
          ],
          "font": {
           "color": "#f2f5fa"
          },
          "geo": {
           "bgcolor": "rgb(17,17,17)",
           "lakecolor": "rgb(17,17,17)",
           "landcolor": "rgb(17,17,17)",
           "showlakes": true,
           "showland": true,
           "subunitcolor": "#506784"
          },
          "hoverlabel": {
           "align": "left"
          },
          "hovermode": "closest",
          "mapbox": {
           "style": "dark"
          },
          "paper_bgcolor": "rgb(17,17,17)",
          "plot_bgcolor": "rgb(17,17,17)",
          "polar": {
           "angularaxis": {
            "gridcolor": "#506784",
            "linecolor": "#506784",
            "ticks": ""
           },
           "bgcolor": "rgb(17,17,17)",
           "radialaxis": {
            "gridcolor": "#506784",
            "linecolor": "#506784",
            "ticks": ""
           }
          },
          "scene": {
           "xaxis": {
            "backgroundcolor": "rgb(17,17,17)",
            "gridcolor": "#506784",
            "gridwidth": 2,
            "linecolor": "#506784",
            "showbackground": true,
            "ticks": "",
            "zerolinecolor": "#C8D4E3"
           },
           "yaxis": {
            "backgroundcolor": "rgb(17,17,17)",
            "gridcolor": "#506784",
            "gridwidth": 2,
            "linecolor": "#506784",
            "showbackground": true,
            "ticks": "",
            "zerolinecolor": "#C8D4E3"
           },
           "zaxis": {
            "backgroundcolor": "rgb(17,17,17)",
            "gridcolor": "#506784",
            "gridwidth": 2,
            "linecolor": "#506784",
            "showbackground": true,
            "ticks": "",
            "zerolinecolor": "#C8D4E3"
           }
          },
          "shapedefaults": {
           "line": {
            "color": "#f2f5fa"
           }
          },
          "sliderdefaults": {
           "bgcolor": "#C8D4E3",
           "bordercolor": "rgb(17,17,17)",
           "borderwidth": 1,
           "tickwidth": 0
          },
          "ternary": {
           "aaxis": {
            "gridcolor": "#506784",
            "linecolor": "#506784",
            "ticks": ""
           },
           "baxis": {
            "gridcolor": "#506784",
            "linecolor": "#506784",
            "ticks": ""
           },
           "bgcolor": "rgb(17,17,17)",
           "caxis": {
            "gridcolor": "#506784",
            "linecolor": "#506784",
            "ticks": ""
           }
          },
          "title": {
           "x": 0.05
          },
          "updatemenudefaults": {
           "bgcolor": "#506784",
           "borderwidth": 0
          },
          "xaxis": {
           "automargin": true,
           "gridcolor": "#283442",
           "linecolor": "#506784",
           "ticks": "",
           "title": {
            "standoff": 15
           },
           "zerolinecolor": "#283442",
           "zerolinewidth": 2
          },
          "yaxis": {
           "automargin": true,
           "gridcolor": "#283442",
           "linecolor": "#506784",
           "ticks": "",
           "title": {
            "standoff": 15
           },
           "zerolinecolor": "#283442",
           "zerolinewidth": 2
          }
         }
        },
        "title": {
         "text": "Trip Count Analysis"
        },
        "xaxis": {
         "anchor": "y",
         "domain": [
          0,
          0.45
         ]
        },
        "xaxis2": {
         "anchor": "y2",
         "domain": [
          0.55,
          1
         ]
        },
        "xaxis3": {
         "anchor": "y3",
         "domain": [
          0,
          0.45
         ]
        },
        "xaxis4": {
         "anchor": "y4",
         "domain": [
          0.55,
          1
         ]
        },
        "yaxis": {
         "anchor": "x",
         "domain": [
          0.625,
          1
         ]
        },
        "yaxis2": {
         "anchor": "x2",
         "domain": [
          0.625,
          1
         ]
        },
        "yaxis3": {
         "anchor": "x3",
         "domain": [
          0,
          0.375
         ]
        },
        "yaxis4": {
         "anchor": "x4",
         "domain": [
          0,
          0.375
         ]
        }
       }
      }
     },
     "metadata": {},
     "output_type": "display_data"
    }
   ],
   "source": [
    "\n",
    "fig = make_subplots(\n",
    "   rows=2, \n",
    "   cols=2, \n",
    "   subplot_titles=(\n",
    "      'Different Times Of Day vs Numbers Of Trips',\n",
    "      'Months vs Numbers Of Trips',\n",
    "      'WeekDay vs Numbers Of Trips',\n",
    "      'Hours of Day vs Numbers Of Trips'\n",
    "   )\n",
    ")\n",
    "fig.add_trace(\n",
    "   go.Scatter(\n",
    "      x=trip_dist_timeday['time_of_day'],\n",
    "      y=trip_dist_timeday['Trip Count'],\n",
    "      mode='markers+lines',  \n",
    "      name='Times Of Day'\n",
    "   ),\n",
    "   row=1, col=1\n",
    ")\n",
    "\n",
    "fig.add_trace(\n",
    "   go.Scatter(\n",
    "      x=trip_dist_month['months'],\n",
    "      y=trip_dist_month['Trip Count'],\n",
    "      mode='markers+lines',  \n",
    "      name='Months'\n",
    "   ),\n",
    "   row=1, col=2\n",
    ")\n",
    "\n",
    "fig.add_trace(\n",
    "   go.Scatter(\n",
    "      x=trip_dist_weekday['weekDay'],\n",
    "      y=trip_dist_weekday['Trip Count'],\n",
    "      mode='markers+lines',  \n",
    "      name='WeekDay'\n",
    "   ),\n",
    "   row=2, col=1\n",
    ")\n",
    "\n",
    "fig.add_trace(\n",
    "   go.Scatter(\n",
    "      x=trip_dist_hours['hours'],\n",
    "      y=trip_dist_hours['Trip Count'],\n",
    "      mode='markers',  \n",
    "      name='Hours of Day'\n",
    "   ),\n",
    "   row=2, col=2\n",
    ")\n",
    "\n",
    "fig.update_layout(\n",
    "   height=800, \n",
    "   title_text=\"Trip Count Analysis\",  \n",
    "   template='plotly_dark',  \n",
    "   showlegend=True,  \n",
    ")\n",
    "fig.show()\n"
   ]
  },
  {
   "cell_type": "markdown",
   "metadata": {},
   "source": [
    "### **Trip Count Analysis**\n",
    "\n",
    "#### **1. `Different Times of Day vs. Numbers of Trips`**\n",
    "The first chart shows the relationship between different times of day and the number of taxi trips.\n",
    "\n",
    "- **Key Observations:**\n",
    "  - The highest number of trips occurs during the **Morning**, with approximately **300k** trips.\n",
    "  - Trip counts decrease progressively as the day progresses:\n",
    "    - **Afternoon:** Slightly lower than Morning.\n",
    "    - **Evening:** Further decreases compared to Afternoon.\n",
    "    - **Night:** Lower still, showing a significant drop.\n",
    "    - **Dawn** Lower still, showing a significant drop\n",
    "    - **Noon:** The lowest number of trips.\n",
    "\n",
    "- **Insight:** Taxi demand is highest during the **Morning**, likely due to commuting patterns, and gradually decreases throughout the day, reaching its lowest point during **Noon**.\n",
    "\n",
    "---\n",
    "\n",
    "#### **2. `Months vs. Numbers of Trips`**\n",
    "The second chart illustrates the relationship between months and the number of taxi trips.\n",
    "\n",
    "- **Key Observations:**\n",
    "  - The highest number of trips occurs in **March**, with approximately **215k** trips.\n",
    "  - Trip counts decline steadily as the months progress:\n",
    "    - **April:** Slightly lower than March.\n",
    "    - **May:** Further decreases compared to April.\n",
    "    - **February:** Continues the downward trend.\n",
    "    - **June:** Shows a consistent decline.\n",
    "    - **January:** Reaches the lowest number of trips, around **195k**.\n",
    "\n",
    "- **Insight:** Taxi demand peaks in **March** and declines over the subsequent months, potentially influenced by seasonal factors or changes in weather and activity levels.\n",
    "\n",
    "---\n",
    "\n",
    "#### **3. `WeekDay vs. Numbers of Trips`**\n",
    "The third chart shows the relationship between weekdays and the number of taxi trips.\n",
    "\n",
    "- **Key Observations:**\n",
    "  - The highest number of trips occurs on **Friday**, with approximately **190k** trips.\n",
    "  - Trip counts decrease progressively as the week progresses:\n",
    "    - **Saturday:** Slightly lower than Friday.\n",
    "    - **Thursday:** Further decreases compared to Saturday.\n",
    "    - **Wednesday:** Continues the downward trend.\n",
    "    - **Tuesday:** Shows a consistent decline.\n",
    "    - **Sunday:** Remains relatively low.\n",
    "    - **Monday:** Reaches the lowest number of trips, around **160k**.\n",
    "\n",
    "- **Insight:** Taxi demand is highest on **Friday**, likely due to weekend preparations or social activities, and decreases throughout the week, reaching its lowest point on **Monday**.\n",
    "\n",
    "---\n",
    "### **4. `Hours of Day vs. Number of Trips`**\n",
    "\n",
    "This scatter plot shows how taxi demand changes throughout the day.\n",
    "\n",
    "#### **Key Observations:**\n",
    "\n",
    "1. **Low Demand (0–5 AM):**\n",
    "   - Few trips occur during early morning hours.\n",
    "   - The lowest point is around **3 AM**, with about **20k** trips.\n",
    "\n",
    "2. **Morning Peak (6–9 AM):**\n",
    "   - Demand increases starting at **6 AM**.\n",
    "   - Peaks around **7–8 AM** with **60k** trips, likely due to morning commutes.\n",
    "\n",
    "3. **Midday (9 AM–5 PM):**\n",
    "   - Demand stays steady, with **50k–60k** trips throughout the day.\n",
    "\n",
    "4. **Evening Peak (6–9 PM):**\n",
    "   - Another spike occurs starting at **6 PM**.\n",
    "   - Peaks around **7–8 PM** with **70k–80k** trips, likely due to evening commutes or social activities.\n",
    "\n",
    "5. **Night Decline (10 PM–5 AM):**\n",
    "   - Demand drops after **10 PM** and remains low until early morning.\n",
    "\n",
    "#### **Insights:**\n",
    "- **Peaks:** Highest demand is during **morning (7–8 AM)** and **evening (7–8 PM)** rush hours.\n",
    "- **Lows:** Lowest demand occurs around **3 AM**.\n",
    "- **Midday:** Moderate but stable demand during the day.\n",
    "---\n",
    "\n",
    "### **Summary**\n",
    "- **Time of Day:** Taxi demand is highest during the **Morning** and peaks again during the **Evening**, with the lowest demand during **Dawn**.\n",
    "- **Months:** Taxi demand peaks in **March** and declines steadily through the rest of the year, reaching its lowest point in **January**.\n",
    "- **Weekdays:** Taxi demand is highest on **Friday** and decreases throughout the week, reaching its lowest point on **Monday**.\n",
    "- **Hours of Day:** Taxi demand follows a daily cycle, with peaks during **morning rush hours (7 AM–8 AM)** and **evening rush hours (7 PM–8 PM)**, and low demand during early morning and late-night hours.\n"
   ]
  },
  {
   "cell_type": "code",
   "execution_count": 21,
   "metadata": {},
   "outputs": [
    {
     "data": {
      "application/vnd.plotly.v1+json": {
       "config": {
        "plotlyServerURL": "https://plot.ly"
       },
       "data": [
        {
         "marker": {
          "color": "rgb(13, 143, 129)"
         },
         "name": "WeekDay",
         "text": {
          "bdata": "zczMzMyMMEAK16NwPQouQClcj8L1qC9Aj8L1KFwPLkDD9Shcj8IwQD0K16NwPTBAj8L1KFxPMEA=",
          "dtype": "f8"
         },
         "textposition": "auto",
         "type": "bar",
         "x": [
          "Friday",
          "Monday",
          "Saturday",
          "Sunday",
          "Thursday",
          "Tuesday",
          "Wednesday"
         ],
         "xaxis": "x",
         "y": {
          "bdata": "zczMzMyMMEAK16NwPQouQClcj8L1qC9Aj8L1KFwPLkDD9Shcj8IwQD0K16NwPTBAj8L1KFxPMEA=",
          "dtype": "f8"
         },
         "yaxis": "y"
        },
        {
         "marker": {
          "color": "rgb(169, 220, 103)"
         },
         "name": "Months",
         "text": {
          "bdata": "16NwPQoXMEC4HoXrUbguQB+F61G4ni5A4XoUrkfhMEBcj8L1KFwvQOF6FK5HoTBA",
          "dtype": "f8"
         },
         "textposition": "auto",
         "type": "bar",
         "x": [
          "April",
          "February",
          "January",
          "June",
          "March",
          "May"
         ],
         "xaxis": "x2",
         "y": {
          "bdata": "16NwPQoXMEC4HoXrUbguQB+F61G4ni5A4XoUrkfhMEBcj8L1KFwvQOF6FK5HoTBA",
          "dtype": "f8"
         },
         "yaxis": "y2"
        }
       ],
       "layout": {
        "annotations": [
         {
          "font": {
           "size": 16
          },
          "showarrow": false,
          "text": "AVG Trip Duration in WeekDays",
          "x": 0.225,
          "xanchor": "center",
          "xref": "paper",
          "y": 1,
          "yanchor": "bottom",
          "yref": "paper"
         },
         {
          "font": {
           "size": 16
          },
          "showarrow": false,
          "text": "AVG Trip Duration in Months",
          "x": 0.775,
          "xanchor": "center",
          "xref": "paper",
          "y": 1,
          "yanchor": "bottom",
          "yref": "paper"
         }
        ],
        "barcornerradius": 10,
        "height": 500,
        "template": {
         "data": {
          "bar": [
           {
            "error_x": {
             "color": "#f2f5fa"
            },
            "error_y": {
             "color": "#f2f5fa"
            },
            "marker": {
             "line": {
              "color": "rgb(17,17,17)",
              "width": 0.5
             },
             "pattern": {
              "fillmode": "overlay",
              "size": 10,
              "solidity": 0.2
             }
            },
            "type": "bar"
           }
          ],
          "barpolar": [
           {
            "marker": {
             "line": {
              "color": "rgb(17,17,17)",
              "width": 0.5
             },
             "pattern": {
              "fillmode": "overlay",
              "size": 10,
              "solidity": 0.2
             }
            },
            "type": "barpolar"
           }
          ],
          "carpet": [
           {
            "aaxis": {
             "endlinecolor": "#A2B1C6",
             "gridcolor": "#506784",
             "linecolor": "#506784",
             "minorgridcolor": "#506784",
             "startlinecolor": "#A2B1C6"
            },
            "baxis": {
             "endlinecolor": "#A2B1C6",
             "gridcolor": "#506784",
             "linecolor": "#506784",
             "minorgridcolor": "#506784",
             "startlinecolor": "#A2B1C6"
            },
            "type": "carpet"
           }
          ],
          "choropleth": [
           {
            "colorbar": {
             "outlinewidth": 0,
             "ticks": ""
            },
            "type": "choropleth"
           }
          ],
          "contour": [
           {
            "colorbar": {
             "outlinewidth": 0,
             "ticks": ""
            },
            "colorscale": [
             [
              0,
              "#0d0887"
             ],
             [
              0.1111111111111111,
              "#46039f"
             ],
             [
              0.2222222222222222,
              "#7201a8"
             ],
             [
              0.3333333333333333,
              "#9c179e"
             ],
             [
              0.4444444444444444,
              "#bd3786"
             ],
             [
              0.5555555555555556,
              "#d8576b"
             ],
             [
              0.6666666666666666,
              "#ed7953"
             ],
             [
              0.7777777777777778,
              "#fb9f3a"
             ],
             [
              0.8888888888888888,
              "#fdca26"
             ],
             [
              1,
              "#f0f921"
             ]
            ],
            "type": "contour"
           }
          ],
          "contourcarpet": [
           {
            "colorbar": {
             "outlinewidth": 0,
             "ticks": ""
            },
            "type": "contourcarpet"
           }
          ],
          "heatmap": [
           {
            "colorbar": {
             "outlinewidth": 0,
             "ticks": ""
            },
            "colorscale": [
             [
              0,
              "#0d0887"
             ],
             [
              0.1111111111111111,
              "#46039f"
             ],
             [
              0.2222222222222222,
              "#7201a8"
             ],
             [
              0.3333333333333333,
              "#9c179e"
             ],
             [
              0.4444444444444444,
              "#bd3786"
             ],
             [
              0.5555555555555556,
              "#d8576b"
             ],
             [
              0.6666666666666666,
              "#ed7953"
             ],
             [
              0.7777777777777778,
              "#fb9f3a"
             ],
             [
              0.8888888888888888,
              "#fdca26"
             ],
             [
              1,
              "#f0f921"
             ]
            ],
            "type": "heatmap"
           }
          ],
          "histogram": [
           {
            "marker": {
             "pattern": {
              "fillmode": "overlay",
              "size": 10,
              "solidity": 0.2
             }
            },
            "type": "histogram"
           }
          ],
          "histogram2d": [
           {
            "colorbar": {
             "outlinewidth": 0,
             "ticks": ""
            },
            "colorscale": [
             [
              0,
              "#0d0887"
             ],
             [
              0.1111111111111111,
              "#46039f"
             ],
             [
              0.2222222222222222,
              "#7201a8"
             ],
             [
              0.3333333333333333,
              "#9c179e"
             ],
             [
              0.4444444444444444,
              "#bd3786"
             ],
             [
              0.5555555555555556,
              "#d8576b"
             ],
             [
              0.6666666666666666,
              "#ed7953"
             ],
             [
              0.7777777777777778,
              "#fb9f3a"
             ],
             [
              0.8888888888888888,
              "#fdca26"
             ],
             [
              1,
              "#f0f921"
             ]
            ],
            "type": "histogram2d"
           }
          ],
          "histogram2dcontour": [
           {
            "colorbar": {
             "outlinewidth": 0,
             "ticks": ""
            },
            "colorscale": [
             [
              0,
              "#0d0887"
             ],
             [
              0.1111111111111111,
              "#46039f"
             ],
             [
              0.2222222222222222,
              "#7201a8"
             ],
             [
              0.3333333333333333,
              "#9c179e"
             ],
             [
              0.4444444444444444,
              "#bd3786"
             ],
             [
              0.5555555555555556,
              "#d8576b"
             ],
             [
              0.6666666666666666,
              "#ed7953"
             ],
             [
              0.7777777777777778,
              "#fb9f3a"
             ],
             [
              0.8888888888888888,
              "#fdca26"
             ],
             [
              1,
              "#f0f921"
             ]
            ],
            "type": "histogram2dcontour"
           }
          ],
          "mesh3d": [
           {
            "colorbar": {
             "outlinewidth": 0,
             "ticks": ""
            },
            "type": "mesh3d"
           }
          ],
          "parcoords": [
           {
            "line": {
             "colorbar": {
              "outlinewidth": 0,
              "ticks": ""
             }
            },
            "type": "parcoords"
           }
          ],
          "pie": [
           {
            "automargin": true,
            "type": "pie"
           }
          ],
          "scatter": [
           {
            "marker": {
             "line": {
              "color": "#283442"
             }
            },
            "type": "scatter"
           }
          ],
          "scatter3d": [
           {
            "line": {
             "colorbar": {
              "outlinewidth": 0,
              "ticks": ""
             }
            },
            "marker": {
             "colorbar": {
              "outlinewidth": 0,
              "ticks": ""
             }
            },
            "type": "scatter3d"
           }
          ],
          "scattercarpet": [
           {
            "marker": {
             "colorbar": {
              "outlinewidth": 0,
              "ticks": ""
             }
            },
            "type": "scattercarpet"
           }
          ],
          "scattergeo": [
           {
            "marker": {
             "colorbar": {
              "outlinewidth": 0,
              "ticks": ""
             }
            },
            "type": "scattergeo"
           }
          ],
          "scattergl": [
           {
            "marker": {
             "line": {
              "color": "#283442"
             }
            },
            "type": "scattergl"
           }
          ],
          "scattermap": [
           {
            "marker": {
             "colorbar": {
              "outlinewidth": 0,
              "ticks": ""
             }
            },
            "type": "scattermap"
           }
          ],
          "scattermapbox": [
           {
            "marker": {
             "colorbar": {
              "outlinewidth": 0,
              "ticks": ""
             }
            },
            "type": "scattermapbox"
           }
          ],
          "scatterpolar": [
           {
            "marker": {
             "colorbar": {
              "outlinewidth": 0,
              "ticks": ""
             }
            },
            "type": "scatterpolar"
           }
          ],
          "scatterpolargl": [
           {
            "marker": {
             "colorbar": {
              "outlinewidth": 0,
              "ticks": ""
             }
            },
            "type": "scatterpolargl"
           }
          ],
          "scatterternary": [
           {
            "marker": {
             "colorbar": {
              "outlinewidth": 0,
              "ticks": ""
             }
            },
            "type": "scatterternary"
           }
          ],
          "surface": [
           {
            "colorbar": {
             "outlinewidth": 0,
             "ticks": ""
            },
            "colorscale": [
             [
              0,
              "#0d0887"
             ],
             [
              0.1111111111111111,
              "#46039f"
             ],
             [
              0.2222222222222222,
              "#7201a8"
             ],
             [
              0.3333333333333333,
              "#9c179e"
             ],
             [
              0.4444444444444444,
              "#bd3786"
             ],
             [
              0.5555555555555556,
              "#d8576b"
             ],
             [
              0.6666666666666666,
              "#ed7953"
             ],
             [
              0.7777777777777778,
              "#fb9f3a"
             ],
             [
              0.8888888888888888,
              "#fdca26"
             ],
             [
              1,
              "#f0f921"
             ]
            ],
            "type": "surface"
           }
          ],
          "table": [
           {
            "cells": {
             "fill": {
              "color": "#506784"
             },
             "line": {
              "color": "rgb(17,17,17)"
             }
            },
            "header": {
             "fill": {
              "color": "#2a3f5f"
             },
             "line": {
              "color": "rgb(17,17,17)"
             }
            },
            "type": "table"
           }
          ]
         },
         "layout": {
          "annotationdefaults": {
           "arrowcolor": "#f2f5fa",
           "arrowhead": 0,
           "arrowwidth": 1
          },
          "autotypenumbers": "strict",
          "coloraxis": {
           "colorbar": {
            "outlinewidth": 0,
            "ticks": ""
           }
          },
          "colorscale": {
           "diverging": [
            [
             0,
             "#8e0152"
            ],
            [
             0.1,
             "#c51b7d"
            ],
            [
             0.2,
             "#de77ae"
            ],
            [
             0.3,
             "#f1b6da"
            ],
            [
             0.4,
             "#fde0ef"
            ],
            [
             0.5,
             "#f7f7f7"
            ],
            [
             0.6,
             "#e6f5d0"
            ],
            [
             0.7,
             "#b8e186"
            ],
            [
             0.8,
             "#7fbc41"
            ],
            [
             0.9,
             "#4d9221"
            ],
            [
             1,
             "#276419"
            ]
           ],
           "sequential": [
            [
             0,
             "#0d0887"
            ],
            [
             0.1111111111111111,
             "#46039f"
            ],
            [
             0.2222222222222222,
             "#7201a8"
            ],
            [
             0.3333333333333333,
             "#9c179e"
            ],
            [
             0.4444444444444444,
             "#bd3786"
            ],
            [
             0.5555555555555556,
             "#d8576b"
            ],
            [
             0.6666666666666666,
             "#ed7953"
            ],
            [
             0.7777777777777778,
             "#fb9f3a"
            ],
            [
             0.8888888888888888,
             "#fdca26"
            ],
            [
             1,
             "#f0f921"
            ]
           ],
           "sequentialminus": [
            [
             0,
             "#0d0887"
            ],
            [
             0.1111111111111111,
             "#46039f"
            ],
            [
             0.2222222222222222,
             "#7201a8"
            ],
            [
             0.3333333333333333,
             "#9c179e"
            ],
            [
             0.4444444444444444,
             "#bd3786"
            ],
            [
             0.5555555555555556,
             "#d8576b"
            ],
            [
             0.6666666666666666,
             "#ed7953"
            ],
            [
             0.7777777777777778,
             "#fb9f3a"
            ],
            [
             0.8888888888888888,
             "#fdca26"
            ],
            [
             1,
             "#f0f921"
            ]
           ]
          },
          "colorway": [
           "#636efa",
           "#EF553B",
           "#00cc96",
           "#ab63fa",
           "#FFA15A",
           "#19d3f3",
           "#FF6692",
           "#B6E880",
           "#FF97FF",
           "#FECB52"
          ],
          "font": {
           "color": "#f2f5fa"
          },
          "geo": {
           "bgcolor": "rgb(17,17,17)",
           "lakecolor": "rgb(17,17,17)",
           "landcolor": "rgb(17,17,17)",
           "showlakes": true,
           "showland": true,
           "subunitcolor": "#506784"
          },
          "hoverlabel": {
           "align": "left"
          },
          "hovermode": "closest",
          "mapbox": {
           "style": "dark"
          },
          "paper_bgcolor": "rgb(17,17,17)",
          "plot_bgcolor": "rgb(17,17,17)",
          "polar": {
           "angularaxis": {
            "gridcolor": "#506784",
            "linecolor": "#506784",
            "ticks": ""
           },
           "bgcolor": "rgb(17,17,17)",
           "radialaxis": {
            "gridcolor": "#506784",
            "linecolor": "#506784",
            "ticks": ""
           }
          },
          "scene": {
           "xaxis": {
            "backgroundcolor": "rgb(17,17,17)",
            "gridcolor": "#506784",
            "gridwidth": 2,
            "linecolor": "#506784",
            "showbackground": true,
            "ticks": "",
            "zerolinecolor": "#C8D4E3"
           },
           "yaxis": {
            "backgroundcolor": "rgb(17,17,17)",
            "gridcolor": "#506784",
            "gridwidth": 2,
            "linecolor": "#506784",
            "showbackground": true,
            "ticks": "",
            "zerolinecolor": "#C8D4E3"
           },
           "zaxis": {
            "backgroundcolor": "rgb(17,17,17)",
            "gridcolor": "#506784",
            "gridwidth": 2,
            "linecolor": "#506784",
            "showbackground": true,
            "ticks": "",
            "zerolinecolor": "#C8D4E3"
           }
          },
          "shapedefaults": {
           "line": {
            "color": "#f2f5fa"
           }
          },
          "sliderdefaults": {
           "bgcolor": "#C8D4E3",
           "bordercolor": "rgb(17,17,17)",
           "borderwidth": 1,
           "tickwidth": 0
          },
          "ternary": {
           "aaxis": {
            "gridcolor": "#506784",
            "linecolor": "#506784",
            "ticks": ""
           },
           "baxis": {
            "gridcolor": "#506784",
            "linecolor": "#506784",
            "ticks": ""
           },
           "bgcolor": "rgb(17,17,17)",
           "caxis": {
            "gridcolor": "#506784",
            "linecolor": "#506784",
            "ticks": ""
           }
          },
          "title": {
           "x": 0.05
          },
          "updatemenudefaults": {
           "bgcolor": "#506784",
           "borderwidth": 0
          },
          "xaxis": {
           "automargin": true,
           "gridcolor": "#283442",
           "linecolor": "#506784",
           "ticks": "",
           "title": {
            "standoff": 15
           },
           "zerolinecolor": "#283442",
           "zerolinewidth": 2
          },
          "yaxis": {
           "automargin": true,
           "gridcolor": "#283442",
           "linecolor": "#506784",
           "ticks": "",
           "title": {
            "standoff": 15
           },
           "zerolinecolor": "#283442",
           "zerolinewidth": 2
          }
         }
        },
        "title": {
         "text": "Average Trip Duration by Weekday and Month",
         "x": 0.5
        },
        "xaxis": {
         "anchor": "y",
         "domain": [
          0,
          0.45
         ],
         "title": {
          "text": "WeekDay"
         }
        },
        "xaxis2": {
         "anchor": "y2",
         "domain": [
          0.55,
          1
         ],
         "title": {
          "text": "Month"
         }
        },
        "yaxis": {
         "anchor": "x",
         "domain": [
          0,
          1
         ],
         "title": {
          "text": "Avg Trip Duration (min)"
         }
        },
        "yaxis2": {
         "anchor": "x2",
         "domain": [
          0,
          1
         ],
         "title": {
          "text": "Avg Trip Duration (min)"
         }
        }
       }
      }
     },
     "metadata": {},
     "output_type": "display_data"
    }
   ],
   "source": [
    "\n",
    "avg_trip_weekday = df.groupby('weekDay')['trip_duration_min'].mean().reset_index()\n",
    "avg_trip_weekday['trip_duration_min'] = avg_trip_weekday['trip_duration_min'].round(2)\n",
    "\n",
    "avg_trip_months = df.groupby('months')['trip_duration_min'].mean().reset_index()\n",
    "avg_trip_months['trip_duration_min'] = avg_trip_months['trip_duration_min'].round(2)\n",
    "\n",
    "\n",
    "fig = make_subplots(\n",
    "   rows=1, cols=2,\n",
    "   subplot_titles=('AVG Trip Duration in WeekDays', 'AVG Trip Duration in Months')\n",
    ")\n",
    "\n",
    "# Weekday bar chart\n",
    "fig.add_trace(\n",
    "   go.Bar(\n",
    "      x=avg_trip_weekday['weekDay'],\n",
    "      y=avg_trip_weekday['trip_duration_min'],\n",
    "      text=avg_trip_weekday['trip_duration_min'],\n",
    "      textposition='auto',\n",
    "      marker_color=px.colors.sequential.Aggrnyl[2],\n",
    "      name='WeekDay'\n",
    "   ),\n",
    "   row=1, col=1\n",
    ")\n",
    "\n",
    "# Month bar chart\n",
    "fig.add_trace(\n",
    "   go.Bar(\n",
    "      x=avg_trip_months['months'],\n",
    "      y=avg_trip_months['trip_duration_min'],\n",
    "      text=avg_trip_months['trip_duration_min'],\n",
    "      textposition='auto',\n",
    "      marker_color=px.colors.sequential.Aggrnyl[5],\n",
    "      name='Months'\n",
    "   ),\n",
    "   row=1, col=2\n",
    ")\n",
    "\n",
    "# Update layout\n",
    "fig.update_layout(\n",
    "   template='plotly_dark',\n",
    "   barcornerradius=10,\n",
    "   height=500,\n",
    "   title='Average Trip Duration by Weekday and Month',\n",
    "   title_x=0.5,\n",
    "   xaxis_title='WeekDay',\n",
    "   yaxis_title='Avg Trip Duration (min)',\n",
    "   xaxis2_title='Month',\n",
    "   yaxis2_title='Avg Trip Duration (min)',\n",
    ")\n",
    "\n",
    "fig.show()\n"
   ]
  },
  {
   "cell_type": "markdown",
   "metadata": {},
   "source": [
    "\n",
    "\n",
    "### **`Average Trip Duration by Weekday and Month`**\n",
    "\n",
    "This visualization compares the average trip duration (in minutes) for taxi trips across different **weekdays** and **months**.\n",
    "\n",
    "---\n",
    "\n",
    "#### **1. `AVG Trip Duration in WeekDays`**\n",
    "The left chart shows the average trip duration for each weekday.\n",
    "\n",
    "- **Key Observations:**\n",
    "  - The **longest** average trip durations occur on **Friday** and **Thursday**, with approximately **16.76 minutes** and **16.55 minutes**, respectively.\n",
    "  - The **shortest** average trip durations occur on **Sunday** and **Monday**, with approximately **15.03 minutes** and **15.02 minutes**, respectively.\n",
    "  - Other weekdays (**Tuesday, Wednesday**) have moderate durations, ranging between **15–16 minutes**.\n",
    "\n",
    "- **Insight:** Taxi trips tend to be longer on **Friday** and **Thursday**, possibly due to increased travel distances, higher traffic, or weekend preparation activities. Conversely, shorter trips are more common on **Sunday** and **Monday**, potentially reflecting shorter commutes or less travel during these days.\n",
    "\n",
    "---\n",
    "\n",
    "#### **2. `AVG Trip Duration in Months`**\n",
    "The right chart shows the average trip duration for each month.\n",
    "\n",
    "- **Key Observations:**\n",
    "  - The **longest** average trip durations occur in **June** and **May**, with approximately **16.88 minutes** and **16.63 minutes**, respectively.\n",
    "  - The **shortest** average trip durations occur in **January** and **February**, with approximately **15.31 minutes** and **15.36 minutes**, respectively.\n",
    "  - Other months (**March, April**) show moderate durations, ranging between **15–16 minutes**.\n",
    "\n",
    "- **Insight:** Taxi trips tend to be longer in **June** and **May**, which could be influenced by seasonal factors such as warmer weather, tourism, or holidays. Shorter trips are more common in **January** and **February**, potentially due to colder weather or reduced travel activity during these months.\n",
    "\n",
    "---\n",
    "\n",
    "### **Summary**\n",
    "- **Weekdays:** Average trip durations are longest on **Friday** and **Thursday** and shortest on **Sunday** and **Monday**.\n",
    "- **Months:** Average trip durations are longest in **June** and **May** and shortest in **January** and **February**.\n",
    "- These patterns suggest that external factors like **seasonal travel habits** influence trip durations.\n",
    "\n"
   ]
  },
  {
   "cell_type": "code",
   "execution_count": 22,
   "metadata": {},
   "outputs": [
    {
     "data": {
      "image/png": "[encoded data removed]",
      "text/plain": [
       "<Figure size 1500x600 with 2 Axes>"
      ]
     },
     "metadata": {},
     "output_type": "display_data"
    }
   ],
   "source": [
    "hours_weekday=df.groupby(['hours' , 'weekDay']).size().reset_index(name='Trip Count')\n",
    "pivot = hours_weekday.pivot(columns='weekDay', index='hours', values='Trip Count')\n",
    "plt.style.use('dark_background')\n",
    "plt.figure(figsize=(15, 6))\n",
    "sns.heatmap(pivot, cmap =sns.cubehelix_palette(as_cmap=True),  annot=True, fmt = 'g')\n",
    "\n",
    "plt.title('Trip Count Distribution by Hour of Day and Weekday', fontsize=16 )\n",
    "plt.ylabel('Hours')\n",
    "plt.xlabel('Week Days')\n",
    "plt.tight_layout()\n",
    "plt.show()\n"
   ]
  },
  {
   "cell_type": "markdown",
   "metadata": {},
   "source": [
    "\n",
    "\n",
    "### **`Analysis of the Heatmap`**\n",
    "\n",
    "### 1. **`Overall Trend – High vs Low Activity`**\n",
    "- **Peak activity** is generally observed during the **evening hours (5 PM to 9 PM)** across most weekdays.\n",
    "- **Lowest activity** consistently occurs in the **early morning hours (12 AM to 6 AM)**, which is expected due to reduced commuting and fewer events.\n",
    "\n",
    "---\n",
    "\n",
    "### 2. **`Weekday-wise Patterns`**\n",
    "- **Tuesday, Wednesday, and Thursday** show the **highest number of trips**, especially in the **evening**, indicating increased midweek commuting or outings.\n",
    "- **Friday** sees a steady rise starting early in the day, likely due to weekend travel or early time-off.\n",
    "- **Saturday and Sunday** have a noticeable dip in morning activity but regain strength during **afternoon and evening hours**, aligning with leisure travel habits.\n",
    "\n",
    "---\n",
    "\n",
    "### 3. **`Hour-by-Hour Observations`**\n",
    "- The **highest peak** appears to occur around **6 PM on Thursday**, suggesting a post-work rush.\n",
    "- **Late night hours (10 PM onward)** show a sharp decline in trip counts, **except on weekends**, which retain relatively higher demand due to social outings.\n",
    "- **Morning commutes (7 AM to 10 AM)** also see consistent usage, though not as high as evening peaks.\n",
    "\n",
    "---\n",
    "\n",
    "### 4. **`Mondays Are the Quietest`**\n",
    "- Across the board, **Monday** shows the **lowest activity levels**, both in mornings and evenings.\n",
    "- This could be due to fewer errands or reduced movement after the weekend.\n",
    "\n",
    "---\n",
    "\n",
    "### **`Key Insights & Recommendations`**\n",
    "\n",
    "### 1. **Driver Resource Optimization**\n",
    "> Allocate more drivers between **5 PM and 9 PM**, particularly on **Tuesdays, Wednesdays, and Thursdays**, to match peak demand.\n",
    "\n",
    "### 2. **Targeted Marketing**\n",
    "> Promote discounts or incentives during **low-demand periods** such as **Monday mornings** or **weekday early mornings** to boost engagement.\n",
    "\n",
    "### 3. **Operational Efficiency**\n",
    "> Reduce fleet availability during **early morning hours (1 AM - 5 AM)** on weekdays to save on idle costs — except during **weekend late nights**, where demand persists longer.\n"
   ]
  },
  {
   "cell_type": "code",
   "execution_count": 23,
   "metadata": {},
   "outputs": [
    {
     "data": {
      "image/png": "[encoded data removed]",
      "text/plain": [
       "<Figure size 1500x600 with 2 Axes>"
      ]
     },
     "metadata": {},
     "output_type": "display_data"
    }
   ],
   "source": [
    "months_weekday = df.groupby(['weekDay','months']).size().reset_index(name='Trip Count')\n",
    "\n",
    "pivot = months_weekday.pivot(index='weekDay', columns='months', values='Trip Count')\n",
    "plt.style.use('dark_background')\n",
    "plt.figure(figsize=(15, 6))\n",
    "sns.heatmap(pivot, cmap=\"crest\",annot=True, fmt=\"g\")\n",
    "\n",
    "plt.title('Distribution of Trip Counts Across Weekdays and Months', fontsize=16)\n",
    "plt.xlabel('Hours')\n",
    "plt.ylabel('Week Days')\n",
    "plt.tight_layout()\n",
    "plt.show()"
   ]
  },
  {
   "cell_type": "markdown",
   "metadata": {},
   "source": [
    "\n",
    "###  **`Detailed Heatmap Analysis`**\n",
    "\n",
    "###  1. **`Monthly Trends`**\n",
    "- **April** has the **highest overall trip counts**, with especially strong activity on **Fridays (36,850)** and **Saturdays (38,549)**.\n",
    "- **March and May** follow closely, both showing consistent trip activity across all days, particularly on **Tuesdays, Wednesdays, and Thursdays**.\n",
    "- **January** has the **lowest trip counts overall**, especially on **Mondays (22,914)** and **Tuesdays (25,115)** — possibly due to weather or post-holiday recovery.\n",
    "\n",
    "---\n",
    "\n",
    "### 2. **`Weekday Patterns`**\n",
    "- **Saturday** is the **busiest day** of the week, with consistently high trip volumes every month — reflecting **weekend leisure and outings**.\n",
    "- **Friday** also shows strong numbers, especially in **April and January**, suggesting early weekend travel.\n",
    "- **Monday** is typically the **least active day**, especially in **January and April**, aligning with the typical post-weekend slowdown.\n",
    "\n",
    "---\n",
    "\n",
    "### 3. **`Consistency and Spikes`**\n",
    "- **Tuesday to Thursday** show **stable performance** across months, with noticeable spikes in **March and May** — possibly linked to improved weather or seasonal events.\n",
    "- **Wednesday in March (34,460)** and **Thursday in March (35,643)** are among the top weekday values, indicating possible midweek demand peaks.\n",
    "\n",
    "---\n",
    "\n",
    "### **`Insights & Recommendations`**\n",
    "\n",
    "#### 1. **Peak Month Preparation**\n",
    "> Allocate more resources in **April, March, and May**, particularly on **weekends and midweek days**, to handle increased trip volumes.\n",
    "\n",
    "#### 2. **Marketing Strategy**\n",
    "> Consider running **Monday-specific promotions** to boost engagement during the **lowest-demand day**.\n",
    "\n",
    "#### 3. **Weekend Surge Strategy**\n",
    "> Optimize fleet and driver availability on **Saturdays**, as it consistently outperforms other days across all months.\n",
    "\n",
    "#### 4. **Demand Forecasting**\n",
    "> Incorporate **seasonality factors** (e.g., April spike) into forecasting models to improve accuracy in operational planning.\n"
   ]
  },
  {
   "cell_type": "code",
   "execution_count": 24,
   "metadata": {},
   "outputs": [],
   "source": [
    "df['Distance_Km'] = np.log1p(df['Distance_Km'])\n",
    "df['speed_km/h'] = np.log1p(df['speed_km/h'])\n"
   ]
  },
  {
   "cell_type": "code",
   "execution_count": 25,
   "metadata": {},
   "outputs": [
    {
     "data": {
      "image/png": "[encoded data removed]",
      "text/plain": [
       "<Figure size 1000x500 with 2 Axes>"
      ]
     },
     "metadata": {},
     "output_type": "display_data"
    }
   ],
   "source": [
    "\n",
    "\n",
    "corr = df.drop(['trip_duration','pickup_datetime' , 'vendor_map' ,'is_weekend' , 'time_of_day' ,'trip_duration_min' ,'months' ,'weekDay' , 'store_and_fwd_flag' , ],inplace=False , axis= 1 ).corr()\n",
    "plt.figure(figsize=(10, 5))\n",
    "sns.heatmap(corr, annot=True, cmap='coolwarm', fmt=\".2f\")\n",
    "plt.title('Correlation Matrix for Numerical Features')\n",
    "plt.show()"
   ]
  },
  {
   "cell_type": "markdown",
   "metadata": {},
   "source": [
    "\n",
    "#### **`Key Observations`**\n",
    "\n",
    "#### **1. `Strong Positive Correlations`**\n",
    "- **`Distance_Km` vs `log_trip_duration`**: **0.75**  \n",
    "  → Clear positive relationship: longer distances take more time.\n",
    "\n",
    "- **`pickup_longitude` vs `dropoff_longitude`**: **0.71**  \n",
    "  → Indicates a strong spatial alignment along the east-west axis.\n",
    "\n",
    "- **`pickup_latitude` vs `dropoff_latitude`**: **0.50**  \n",
    "  → Indicates a moderately strong alignment in the north-south direction.\n",
    "\n",
    "- **`Distance_Km` vs `speed_km/h`**: **0.55**  \n",
    "  → Longer trips are generally taken at higher average speeds.\n",
    "\n",
    "#### **2. Very Low or Negligible Correlations**\n",
    "- **`log_trip_duration` vs `speed_km/h`**: **-0.03**  \n",
    "  → Contrary to initial assumption, there is **no meaningful linear relationship** between trip duration and average speed. This suggests that speed alone doesn't explain duration well — possibly due to traffic, stops, or other factors.\n",
    "\n",
    "- **`passenger_count`** shows almost zero correlation with most features including `log_trip_duration` and `Distance_Km`.\n",
    "\n",
    "- **`vendor_id`, `day of year`, and `hours`** all have minimal influence across the board (correlations close to 0).\n",
    "\n",
    "---\n",
    "\n",
    "#### **`Conclusions`**\n",
    "- **Best predictors for trip duration (linear relationship)**:\n",
    "  - `Distance_Km` (**strongest**)\n",
    "  - Possibly some spatial features (longitude/latitude), but less impactful\n",
    "\n",
    "- **`speed_km/h`** may be useful for other types of models (non-linear), but its **linear correlation with duration is nearly zero**.\n",
    "\n",
    "- **Time-based features** (`day of year`, `hour`) and **passenger count** are not helpful for linear predictions, but could be relevant in segmented or categorical analysis.\n"
   ]
  },
  {
   "cell_type": "markdown",
   "metadata": {},
   "source": [
    "<div style=\"background-color: #F9F9F9; padding: 40px; border-radius: 20px; box-shadow: 0px 8px 20px rgba(0, 0, 0, 0.1); margin: 20px auto; max-width: 800px; text-align: center;\">\n",
    "  <h2 style=\"color: #2C3E50; font-family: 'Georgia', serif; font-size: 26px; font-weight: bold; letter-spacing: 1.2px; text-transform: uppercase; margin-bottom: 25px;\">\n",
    "    Thank you  \n",
    "  </h2>\n",
    "    <hr style=\"border: none; border-top: 2px solid #AED6F1; width: 80%; margin: 20px auto;\">\n",
    "</div>"
   ]
  }
 ],
 "metadata": {
  "kernelspec": {
   "display_name": "Python 3",
   "language": "python",
   "name": "python3"
  },
  "language_info": {
   "codemirror_mode": {
    "name": "ipython",
    "version": 3
   },
   "file_extension": ".py",
   "mimetype": "text/x-python",
   "name": "python",
   "nbconvert_exporter": "python",
   "pygments_lexer": "ipython3",
   "version": "3.13.3"
  }
 },
 "nbformat": 4,
 "nbformat_minor": 2
}
